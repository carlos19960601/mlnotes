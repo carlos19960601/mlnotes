{
 "cells": [
  {
   "cell_type": "code",
   "execution_count": 7,
   "id": "a51ef060-6f64-4e11-ba09-3fa04a2e654d",
   "metadata": {},
   "outputs": [
    {
     "data": {
      "text/plain": [
       "tensor([[0.7126, 0.0898, 0.8904, 0.6171],\n",
       "        [0.1064, 0.1930, 0.6698, 0.8147],\n",
       "        [0.0673, 0.7855, 0.5438, 0.5021],\n",
       "        [0.6127, 0.6719, 0.0070, 0.6346]])"
      ]
     },
     "execution_count": 7,
     "metadata": {},
     "output_type": "execute_result"
    }
   ],
   "source": [
    "import torch\n",
    "\n",
    "A= torch.rand(4,4)\n",
    "A"
   ]
  },
  {
   "cell_type": "code",
   "execution_count": 8,
   "id": "564e19cb-0d92-41fd-95cb-f09d13ff36f3",
   "metadata": {},
   "outputs": [
    {
     "data": {
      "text/plain": [
       "(tensor([[0.7126, 0.0898, 0.8904, 0.6171],\n",
       "         [0.1064, 0.1930, 0.6698, 0.8147]]),\n",
       " tensor([[0.0673, 0.7855, 0.5438, 0.5021],\n",
       "         [0.6127, 0.6719, 0.0070, 0.6346]]))"
      ]
     },
     "execution_count": 8,
     "metadata": {},
     "output_type": "execute_result"
    }
   ],
   "source": [
    "B = torch.chunk(A, 2, 0)\n",
    "B"
   ]
  },
  {
   "cell_type": "code",
   "execution_count": 9,
   "id": "a124e65e-bc4c-42ef-a849-887fe28082a7",
   "metadata": {},
   "outputs": [
    {
     "data": {
      "text/plain": [
       "(tensor([[0.7126, 0.0898],\n",
       "         [0.1064, 0.1930],\n",
       "         [0.0673, 0.7855],\n",
       "         [0.6127, 0.6719]]),\n",
       " tensor([[0.8904, 0.6171],\n",
       "         [0.6698, 0.8147],\n",
       "         [0.5438, 0.5021],\n",
       "         [0.0070, 0.6346]]))"
      ]
     },
     "execution_count": 9,
     "metadata": {},
     "output_type": "execute_result"
    }
   ],
   "source": [
    "C =  torch.chunk(A, 2, 1)\n",
    "C"
   ]
  },
  {
   "cell_type": "code",
   "execution_count": 10,
   "id": "f1d60678-6e92-4c60-ac8b-19713192ea73",
   "metadata": {},
   "outputs": [
    {
     "data": {
      "text/plain": [
       "(tensor([[0.7126, 0.0898, 0.8904, 0.6171],\n",
       "         [0.1064, 0.1930, 0.6698, 0.8147]]),\n",
       " tensor([[0.0673, 0.7855, 0.5438, 0.5021],\n",
       "         [0.6127, 0.6719, 0.0070, 0.6346]]))"
      ]
     },
     "execution_count": 10,
     "metadata": {},
     "output_type": "execute_result"
    }
   ],
   "source": [
    "B=torch.split(A, 2, 0)\n",
    "B"
   ]
  }
 ],
 "metadata": {
  "kernelspec": {
   "display_name": "Python 3 (ipykernel)",
   "language": "python",
   "name": "python3"
  },
  "language_info": {
   "codemirror_mode": {
    "name": "ipython",
    "version": 3
   },
   "file_extension": ".py",
   "mimetype": "text/x-python",
   "name": "python",
   "nbconvert_exporter": "python",
   "pygments_lexer": "ipython3",
   "version": "3.12.2"
  }
 },
 "nbformat": 4,
 "nbformat_minor": 5
}
