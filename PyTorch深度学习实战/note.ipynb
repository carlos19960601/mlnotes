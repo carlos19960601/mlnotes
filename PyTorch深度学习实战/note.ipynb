{
 "cells": [
  {
   "cell_type": "code",
   "execution_count": 3,
   "id": "eb8e9f48-eadf-463e-b7f2-8327ec4f9dcf",
   "metadata": {},
   "outputs": [
    {
     "name": "stdout",
     "output_type": "stream",
     "text": [
      "[1]\n"
     ]
    }
   ],
   "source": [
    "import numpy as np\n",
    "\n",
    "arr_1_d = np.asarray([1])\n",
    "print(arr_1_d)"
   ]
  },
  {
   "cell_type": "code",
   "execution_count": 7,
   "id": "a103e348-5826-4abb-9104-5afb8890d8a3",
   "metadata": {},
   "outputs": [
    {
     "name": "stdout",
     "output_type": "stream",
     "text": [
      "[[1 2]\n",
      " [3 4]]\n"
     ]
    }
   ],
   "source": [
    "arr_2_d = np.asarray([[1, 2], [3, 4]])\n",
    "print(arr_2_d)"
   ]
  },
  {
   "cell_type": "code",
   "execution_count": 9,
   "id": "84419b96-98ae-45b0-8069-baba4516d624",
   "metadata": {},
   "outputs": [
    {
     "data": {
      "text/plain": [
       "1"
      ]
     },
     "execution_count": 9,
     "metadata": {},
     "output_type": "execute_result"
    }
   ],
   "source": [
    "arr_1_d.ndim"
   ]
  },
  {
   "cell_type": "code",
   "execution_count": 10,
   "id": "c748ce94-34c3-48f3-8cb6-c07ec84319b8",
   "metadata": {},
   "outputs": [
    {
     "data": {
      "text/plain": [
       "2"
      ]
     },
     "execution_count": 10,
     "metadata": {},
     "output_type": "execute_result"
    }
   ],
   "source": [
    "arr_2_d.ndim"
   ]
  }
 ],
 "metadata": {
  "kernelspec": {
   "display_name": "Python 3 (ipykernel)",
   "language": "python",
   "name": "python3"
  },
  "language_info": {
   "codemirror_mode": {
    "name": "ipython",
    "version": 3
   },
   "file_extension": ".py",
   "mimetype": "text/x-python",
   "name": "python",
   "nbconvert_exporter": "python",
   "pygments_lexer": "ipython3",
   "version": "3.12.2"
  }
 },
 "nbformat": 4,
 "nbformat_minor": 5
}
