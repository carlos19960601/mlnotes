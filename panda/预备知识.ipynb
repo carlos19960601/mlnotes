{
 "cells": [
  {
   "cell_type": "markdown",
   "id": "a7c6cbec-5569-4919-a7ef-98a7bd0d4b9e",
   "metadata": {},
   "source": [
    "# 列表推导式与条件赋值"
   ]
  },
  {
   "cell_type": "code",
   "execution_count": null,
   "id": "64d52d36-5356-452f-894e-582a8b4432a8",
   "metadata": {},
   "outputs": [],
   "source": [
    "L = []\n",
    "\n",
    "def my_func(x):\n",
    "    return 2*x\n",
    "\n",
    "for i in range(5):\n",
    "    L.append(my_func(i))"
   ]
  },
  {
   "cell_type": "code",
   "execution_count": 3,
   "id": "33166f44-3070-4c1c-9ae5-5e3784cca921",
   "metadata": {},
   "outputs": [
    {
     "data": {
      "text/plain": [
       "[0, 2, 4, 6, 8]"
      ]
     },
     "execution_count": 3,
     "metadata": {},
     "output_type": "execute_result"
    }
   ],
   "source": [
    "L"
   ]
  },
  {
   "cell_type": "code",
   "execution_count": 4,
   "id": "93cb3188-0bba-49ed-95e6-123ab895bc02",
   "metadata": {},
   "outputs": [
    {
     "data": {
      "text/plain": [
       "[0, 2, 4, 6, 8]"
      ]
     },
     "execution_count": 4,
     "metadata": {},
     "output_type": "execute_result"
    }
   ],
   "source": [
    "[my_func(i) for i in range(5)]"
   ]
  },
  {
   "cell_type": "code",
   "execution_count": 7,
   "id": "54614260-e4cb-4421-9959-37081dfe42df",
   "metadata": {},
   "outputs": [
    {
     "data": {
      "text/plain": [
       "['a_c', 'a_d', 'b_c', 'b_d']"
      ]
     },
     "execution_count": 7,
     "metadata": {},
     "output_type": "execute_result"
    }
   ],
   "source": [
    "[m+ \"_\" + n for m in [\"a\", \"b\"] for n in [\"c\", \"d\"]]"
   ]
  },
  {
   "cell_type": "code",
   "execution_count": 8,
   "id": "6da5424b-9e9c-457c-90d2-d5974080dd7d",
   "metadata": {},
   "outputs": [],
   "source": [
    "value = \"cat\" if 2 > 1 else \"dog\""
   ]
  },
  {
   "cell_type": "code",
   "execution_count": 10,
   "id": "33603cba-6ca1-41aa-91d2-26750b432c95",
   "metadata": {},
   "outputs": [
    {
     "data": {
      "text/plain": [
       "'cat'"
      ]
     },
     "execution_count": 10,
     "metadata": {},
     "output_type": "execute_result"
    }
   ],
   "source": [
    "value"
   ]
  },
  {
   "cell_type": "code",
   "execution_count": 14,
   "id": "1cb2e317-a6d2-4f83-b316-351df8b141ca",
   "metadata": {},
   "outputs": [
    {
     "data": {
      "text/plain": [
       "[1, 2, 3, 4, 5, 5, 5]"
      ]
     },
     "execution_count": 14,
     "metadata": {},
     "output_type": "execute_result"
    }
   ],
   "source": [
    "L = [1,2,3,4,5,6,7]\n",
    "[i if i <= 5 else 5  for i in L]"
   ]
  },
  {
   "cell_type": "markdown",
   "id": "3f8590e0-fbea-4285-a1f8-7ec0fad2e8ec",
   "metadata": {},
   "source": [
    "# 匿名函数与map方法"
   ]
  },
  {
   "cell_type": "code",
   "execution_count": 17,
   "id": "931fe677-280d-448b-8805-93946089cf87",
   "metadata": {},
   "outputs": [
    {
     "data": {
      "text/plain": [
       "6"
      ]
     },
     "execution_count": 17,
     "metadata": {},
     "output_type": "execute_result"
    }
   ],
   "source": [
    "my_func = lambda x: 2*x\n",
    "my_func(3)"
   ]
  },
  {
   "cell_type": "code",
   "execution_count": 20,
   "id": "09868a1a-71d4-4b82-bcd4-e897a70c061d",
   "metadata": {},
   "outputs": [
    {
     "data": {
      "text/plain": [
       "3"
      ]
     },
     "execution_count": 20,
     "metadata": {},
     "output_type": "execute_result"
    }
   ],
   "source": [
    "multi_para_func = lambda x,y: x+y\n",
    "multi_para_func(1,2)"
   ]
  },
  {
   "cell_type": "code",
   "execution_count": 23,
   "id": "79cf263a-c389-4a99-a2ca-6658d74a359d",
   "metadata": {},
   "outputs": [
    {
     "data": {
      "text/plain": [
       "[0, 2, 4, 6, 8]"
      ]
     },
     "execution_count": 23,
     "metadata": {},
     "output_type": "execute_result"
    }
   ],
   "source": [
    "[(lambda x:2*x)(i) for i in range(5)]"
   ]
  },
  {
   "cell_type": "code",
   "execution_count": 25,
   "id": "b088e2ab-a9bb-4143-8a8a-13a5cacb3457",
   "metadata": {},
   "outputs": [
    {
     "data": {
      "text/plain": [
       "['0_a', '1_b', '2_c', '3_d', '4_e']"
      ]
     },
     "execution_count": 25,
     "metadata": {},
     "output_type": "execute_result"
    }
   ],
   "source": [
    "list(map(lambda x,y: str(x)+\"_\"+y, range(5), list(\"abcde\")))"
   ]
  },
  {
   "cell_type": "markdown",
   "id": "b35fa37a-19ec-436e-9dea-41ff2b392734",
   "metadata": {},
   "source": [
    "# zip对象与enumerate方法"
   ]
  },
  {
   "cell_type": "code",
   "execution_count": 32,
   "id": "205de89a-3f75-4f9c-82fd-ccc90c43e490",
   "metadata": {},
   "outputs": [],
   "source": [
    "L1, L2, L3 = list('abc'), list('def'), list('hij')"
   ]
  },
  {
   "cell_type": "code",
   "execution_count": 33,
   "id": "2d582e9a-22b0-489c-afa8-6e3eec1b449c",
   "metadata": {},
   "outputs": [
    {
     "data": {
      "text/plain": [
       "[('a', 'd', 'h'), ('b', 'e', 'i'), ('c', 'f', 'j')]"
      ]
     },
     "execution_count": 33,
     "metadata": {},
     "output_type": "execute_result"
    }
   ],
   "source": [
    "list(zip(L1,L2,L3))"
   ]
  },
  {
   "cell_type": "code",
   "execution_count": 35,
   "id": "fcf58f3a-28b0-402b-b0f5-c8121e0cf06a",
   "metadata": {},
   "outputs": [
    {
     "data": {
      "text/plain": [
       "(('a', 'd', 'h'), ('b', 'e', 'i'), ('c', 'f', 'j'))"
      ]
     },
     "execution_count": 35,
     "metadata": {},
     "output_type": "execute_result"
    }
   ],
   "source": [
    "tuple(zip(L1, L2, L3))"
   ]
  },
  {
   "cell_type": "code",
   "execution_count": 37,
   "id": "8286b65a-a217-42b2-90dd-6e96fa339c2e",
   "metadata": {},
   "outputs": [
    {
     "name": "stdout",
     "output_type": "stream",
     "text": [
      "a d h\n",
      "b e i\n",
      "c f j\n"
     ]
    }
   ],
   "source": [
    "for i, j, k in zip(L1, L2, L3):\n",
    "    print(i, j, k)"
   ]
  },
  {
   "cell_type": "code",
   "execution_count": 39,
   "id": "16c2f8d9-da85-42cd-8e19-f962d75859e7",
   "metadata": {},
   "outputs": [
    {
     "name": "stdout",
     "output_type": "stream",
     "text": [
      "0 a\n",
      "1 b\n",
      "2 c\n",
      "3 d\n"
     ]
    }
   ],
   "source": [
    "L = list(\"abcd\")\n",
    "for index, value in enumerate(L):\n",
    "    print(index, value)"
   ]
  },
  {
   "cell_type": "code",
   "execution_count": 43,
   "id": "c7f3538b-74e7-4759-ab9a-5933fb74767b",
   "metadata": {},
   "outputs": [
    {
     "name": "stdout",
     "output_type": "stream",
     "text": [
      "0 a\n",
      "1 b\n",
      "2 c\n",
      "3 d\n"
     ]
    }
   ],
   "source": [
    "for index, value in zip(range(len(L)), L):\n",
    "    print(index, value)"
   ]
  },
  {
   "cell_type": "code",
   "execution_count": 45,
   "id": "8eab4ded-73b0-4f06-9dd8-c8a19777d1be",
   "metadata": {},
   "outputs": [
    {
     "data": {
      "text/plain": [
       "[('a', 'd', 'h'), ('b', 'e', 'i'), ('c', 'f', 'j')]"
      ]
     },
     "execution_count": 45,
     "metadata": {},
     "output_type": "execute_result"
    }
   ],
   "source": [
    "zipped = list(zip(L1,L2,L3))\n",
    "zipped"
   ]
  },
  {
   "cell_type": "code",
   "execution_count": 48,
   "id": "17e8d656-2804-47e7-a02c-a0a89514c72f",
   "metadata": {},
   "outputs": [
    {
     "data": {
      "text/plain": [
       "[('a', 'b', 'c'), ('d', 'e', 'f'), ('h', 'i', 'j')]"
      ]
     },
     "execution_count": 48,
     "metadata": {},
     "output_type": "execute_result"
    }
   ],
   "source": [
    "list(zip(*zipped))"
   ]
  },
  {
   "cell_type": "markdown",
   "id": "94a6cda1-f758-40ec-9d98-9bafe42f7d94",
   "metadata": {},
   "source": [
    "# Numpy基础"
   ]
  },
  {
   "cell_type": "code",
   "execution_count": 51,
   "id": "3d83dd8d-5059-4a5a-9c32-25bbc100cf12",
   "metadata": {},
   "outputs": [
    {
     "data": {
      "text/plain": [
       "array([1, 2, 3])"
      ]
     },
     "execution_count": 51,
     "metadata": {},
     "output_type": "execute_result"
    }
   ],
   "source": [
    "import numpy as np\n",
    "\n",
    "np.array([1,2,3])"
   ]
  },
  {
   "cell_type": "code",
   "execution_count": 54,
   "id": "c930a764-2e4d-4230-912b-466b40b1c7c3",
   "metadata": {},
   "outputs": [
    {
     "data": {
      "text/plain": [
       "array([1. , 1.4, 1.8, 2.2, 2.6, 3. , 3.4, 3.8, 4.2, 4.6, 5. ])"
      ]
     },
     "execution_count": 54,
     "metadata": {},
     "output_type": "execute_result"
    }
   ],
   "source": [
    "np.linspace(1,5,11) # 起始、终止（包含）、样本个数"
   ]
  },
  {
   "cell_type": "code",
   "execution_count": 56,
   "id": "1ed4d3ec-0a82-4067-b7a4-a3de9be8b7ae",
   "metadata": {},
   "outputs": [
    {
     "data": {
      "text/plain": [
       "array([1, 3])"
      ]
     },
     "execution_count": 56,
     "metadata": {},
     "output_type": "execute_result"
    }
   ],
   "source": [
    "np.arange(1,5,2) # 起始、终止（不包含）、步长"
   ]
  },
  {
   "cell_type": "code",
   "execution_count": 58,
   "id": "ebe66d1c-8a6d-4086-9cc9-53c192acfb6a",
   "metadata": {},
   "outputs": [
    {
     "data": {
      "text/plain": [
       "array([[0., 0., 0.],\n",
       "       [0., 0., 0.]])"
      ]
     },
     "execution_count": 58,
     "metadata": {},
     "output_type": "execute_result"
    }
   ],
   "source": [
    "np.zeros((2,3)) # 传入元组表示各维度大小"
   ]
  },
  {
   "cell_type": "code",
   "execution_count": 60,
   "id": "61f0d004-d4d6-472b-944f-a1f723e8f91a",
   "metadata": {},
   "outputs": [
    {
     "data": {
      "text/plain": [
       "array([[1., 0., 0.],\n",
       "       [0., 1., 0.],\n",
       "       [0., 0., 1.]])"
      ]
     },
     "execution_count": 60,
     "metadata": {},
     "output_type": "execute_result"
    }
   ],
   "source": [
    "np.eye(3) # 3*3的单位矩阵"
   ]
  },
  {
   "cell_type": "code",
   "execution_count": 63,
   "id": "839ddf82-73b7-4949-b577-edbb7371e527",
   "metadata": {},
   "outputs": [
    {
     "data": {
      "text/plain": [
       "array([[0., 1., 0.],\n",
       "       [0., 0., 1.],\n",
       "       [0., 0., 0.]])"
      ]
     },
     "execution_count": 63,
     "metadata": {},
     "output_type": "execute_result"
    }
   ],
   "source": [
    "np.eye(3, k=1) # 偏移主对角线1个单位的伪单位矩阵"
   ]
  },
  {
   "cell_type": "code",
   "execution_count": 65,
   "id": "d68343d6-8411-474d-ad74-ffc8a00379fd",
   "metadata": {},
   "outputs": [
    {
     "data": {
      "text/plain": [
       "array([[10, 10, 10],\n",
       "       [10, 10, 10]])"
      ]
     },
     "execution_count": 65,
     "metadata": {},
     "output_type": "execute_result"
    }
   ],
   "source": [
    "np.full((2,3), 10) # 元组传入大小，10表示填充数值"
   ]
  },
  {
   "cell_type": "code",
   "execution_count": 66,
   "id": "dad596f0-a3d0-4058-8413-8ba5af41cf90",
   "metadata": {},
   "outputs": [
    {
     "data": {
      "text/plain": [
       "array([[1, 2, 3],\n",
       "       [1, 2, 3]])"
      ]
     },
     "execution_count": 66,
     "metadata": {},
     "output_type": "execute_result"
    }
   ],
   "source": [
    "np.full((2,3), [1,2,3]) # 每行填入相同的列表"
   ]
  }
 ],
 "metadata": {
  "kernelspec": {
   "display_name": "Python 3 (ipykernel)",
   "language": "python",
   "name": "python3"
  },
  "language_info": {
   "codemirror_mode": {
    "name": "ipython",
    "version": 3
   },
   "file_extension": ".py",
   "mimetype": "text/x-python",
   "name": "python",
   "nbconvert_exporter": "python",
   "pygments_lexer": "ipython3",
   "version": "3.12.3"
  }
 },
 "nbformat": 4,
 "nbformat_minor": 5
}
