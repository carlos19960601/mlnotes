{
 "cells": [
  {
   "cell_type": "markdown",
   "id": "678bbc3f-9ed1-48d8-a3f4-6f5a76ff1248",
   "metadata": {
    "jp-MarkdownHeadingCollapsed": true
   },
   "source": [
    "# Create Array"
   ]
  },
  {
   "cell_type": "markdown",
   "id": "1eca92c5-c6e0-4307-839b-41f18bf325c0",
   "metadata": {},
   "source": [
    "导入numpy包"
   ]
  },
  {
   "cell_type": "code",
   "execution_count": 1,
   "id": "9581bbbf-701b-4eb2-85b6-382180b2c1c0",
   "metadata": {},
   "outputs": [],
   "source": [
    "import numpy as np"
   ]
  },
  {
   "cell_type": "markdown",
   "id": "7cbc89f1-36d2-4f73-9389-5d0ff1a194e8",
   "metadata": {},
   "source": [
    "## np.zeros"
   ]
  },
  {
   "cell_type": "markdown",
   "id": "cfe5033a-d565-462d-b2a9-b5b8297347c0",
   "metadata": {},
   "source": [
    "创建包含0的数组"
   ]
  },
  {
   "cell_type": "code",
   "execution_count": 2,
   "id": "51b8fb6f-464f-454e-ab3a-e91ddb2cbdb4",
   "metadata": {},
   "outputs": [
    {
     "data": {
      "text/plain": [
       "array([0., 0., 0., 0., 0.])"
      ]
     },
     "execution_count": 2,
     "metadata": {},
     "output_type": "execute_result"
    }
   ],
   "source": [
    "np.zeros(5)"
   ]
  },
  {
   "cell_type": "markdown",
   "id": "1b56dbae-7619-4615-8d4c-00395456a885",
   "metadata": {},
   "source": [
    "创建2D的数组"
   ]
  },
  {
   "cell_type": "code",
   "execution_count": 3,
   "id": "2b2c0d13-bda6-4bd2-9d9d-92c3d347e2e2",
   "metadata": {},
   "outputs": [],
   "source": [
    "a = np.zeros((3,4))"
   ]
  },
  {
   "cell_type": "code",
   "execution_count": 4,
   "id": "269851f8-ad26-4864-9c16-b8094df8299d",
   "metadata": {},
   "outputs": [
    {
     "data": {
      "text/plain": [
       "(3, 4)"
      ]
     },
     "execution_count": 4,
     "metadata": {},
     "output_type": "execute_result"
    }
   ],
   "source": [
    "a.shape"
   ]
  },
  {
   "cell_type": "code",
   "execution_count": 5,
   "id": "e374c221-ba43-4d2b-a7ff-f771e74570ed",
   "metadata": {},
   "outputs": [
    {
     "data": {
      "text/plain": [
       "2"
      ]
     },
     "execution_count": 5,
     "metadata": {},
     "output_type": "execute_result"
    }
   ],
   "source": [
    "a.ndim"
   ]
  },
  {
   "cell_type": "code",
   "execution_count": 6,
   "id": "ec246dc5-d143-4a57-abe9-c2ce06584e4b",
   "metadata": {},
   "outputs": [
    {
     "data": {
      "text/plain": [
       "12"
      ]
     },
     "execution_count": 6,
     "metadata": {},
     "output_type": "execute_result"
    }
   ],
   "source": [
    "a.size"
   ]
  },
  {
   "cell_type": "markdown",
   "id": "7fb89fd9-90ac-44b5-aadf-24da6ddd26f1",
   "metadata": {},
   "source": [
    "## N维数组"
   ]
  },
  {
   "cell_type": "code",
   "execution_count": 7,
   "id": "1e7a1fc8-6acd-405a-a3f1-e51682d14ccf",
   "metadata": {},
   "outputs": [
    {
     "data": {
      "text/plain": [
       "array([[[0., 0., 0., 0.],\n",
       "        [0., 0., 0., 0.],\n",
       "        [0., 0., 0., 0.]],\n",
       "\n",
       "       [[0., 0., 0., 0.],\n",
       "        [0., 0., 0., 0.],\n",
       "        [0., 0., 0., 0.]]])"
      ]
     },
     "execution_count": 7,
     "metadata": {},
     "output_type": "execute_result"
    }
   ],
   "source": [
    "np.zeros((2,3,4))"
   ]
  },
  {
   "cell_type": "markdown",
   "id": "08e53b90-9f39-4179-9656-02a5b8950197",
   "metadata": {},
   "source": [
    "## 数组类型"
   ]
  },
  {
   "cell_type": "markdown",
   "id": "0d838d1f-743b-4b84-ac47-ba4bdfa5889e",
   "metadata": {},
   "source": [
    "numpy创建的数组类型是 *ndarray*"
   ]
  },
  {
   "cell_type": "code",
   "execution_count": 8,
   "id": "786155d1-01c8-4232-a960-64e7cb2b8912",
   "metadata": {},
   "outputs": [
    {
     "data": {
      "text/plain": [
       "numpy.ndarray"
      ]
     },
     "execution_count": 8,
     "metadata": {},
     "output_type": "execute_result"
    }
   ],
   "source": [
    "type(np.zeros((3,4)))"
   ]
  },
  {
   "cell_type": "markdown",
   "id": "596d1c35-2589-47dd-b9ff-b2ebe336e884",
   "metadata": {},
   "source": [
    "## np.ones\n",
    "创建全是1的数组"
   ]
  },
  {
   "cell_type": "code",
   "execution_count": 9,
   "id": "ff0fd3bc-9723-41a8-a195-80de2cc9f228",
   "metadata": {},
   "outputs": [
    {
     "data": {
      "text/plain": [
       "array([[1., 1., 1., 1.],\n",
       "       [1., 1., 1., 1.],\n",
       "       [1., 1., 1., 1.]])"
      ]
     },
     "execution_count": 9,
     "metadata": {},
     "output_type": "execute_result"
    }
   ],
   "source": [
    "np.ones((3,4))"
   ]
  },
  {
   "cell_type": "markdown",
   "id": "a2cba915-eb41-467e-95ed-8e11c5640c88",
   "metadata": {},
   "source": [
    "## np.full\n",
    "创建指定初始值的数组"
   ]
  },
  {
   "cell_type": "code",
   "execution_count": 10,
   "id": "7a45298e-601c-4fdf-8903-cf394bef011c",
   "metadata": {},
   "outputs": [
    {
     "data": {
      "text/plain": [
       "array([[3.14159265, 3.14159265, 3.14159265, 3.14159265],\n",
       "       [3.14159265, 3.14159265, 3.14159265, 3.14159265],\n",
       "       [3.14159265, 3.14159265, 3.14159265, 3.14159265]])"
      ]
     },
     "execution_count": 10,
     "metadata": {},
     "output_type": "execute_result"
    }
   ],
   "source": [
    "np.full((3,4), np.pi)"
   ]
  },
  {
   "cell_type": "markdown",
   "id": "9c158fb6-ac2b-4a0a-8fe2-a5b8ebb22fcd",
   "metadata": {},
   "source": [
    "## np.empty\n",
    "内容是随机的，取决于在内存中的值"
   ]
  },
  {
   "cell_type": "code",
   "execution_count": 11,
   "id": "294f943b-d8ab-40b1-9137-3943472d2d0e",
   "metadata": {},
   "outputs": [
    {
     "data": {
      "text/plain": [
       "array([[0., 0., 0.],\n",
       "       [0., 0., 0.]])"
      ]
     },
     "execution_count": 11,
     "metadata": {},
     "output_type": "execute_result"
    }
   ],
   "source": [
    "np.empty((2,3))"
   ]
  },
  {
   "cell_type": "markdown",
   "id": "aa1c1617-7b8e-45f5-b53a-8d028a7e5d90",
   "metadata": {},
   "source": [
    "## np.array\n",
    "可以直接冲python数组中创建numpy数组"
   ]
  },
  {
   "cell_type": "code",
   "execution_count": 12,
   "id": "a4d62651-10da-4caa-80c4-fa9b30800e01",
   "metadata": {},
   "outputs": [
    {
     "data": {
      "text/plain": [
       "array([[ 1,  2,  3,  4],\n",
       "       [10, 20, 30, 40]])"
      ]
     },
     "execution_count": 12,
     "metadata": {},
     "output_type": "execute_result"
    }
   ],
   "source": [
    "np.array([[1,2,3,4], [10, 20, 30, 40]])"
   ]
  },
  {
   "cell_type": "markdown",
   "id": "0a4db61d-e438-4f91-9477-edc23fc74ab5",
   "metadata": {},
   "source": [
    "## np.arange"
   ]
  },
  {
   "cell_type": "markdown",
   "id": "c85ecbe3-b4cb-4850-aa51-03646383f090",
   "metadata": {},
   "source": [
    "和python内置的range函数类似"
   ]
  },
  {
   "cell_type": "code",
   "execution_count": 13,
   "id": "2a34a730-7b6a-4707-b27e-640d2f7ce085",
   "metadata": {},
   "outputs": [
    {
     "data": {
      "text/plain": [
       "array([1, 2, 3, 4])"
      ]
     },
     "execution_count": 13,
     "metadata": {},
     "output_type": "execute_result"
    }
   ],
   "source": [
    "np.arange(1,5)"
   ]
  },
  {
   "cell_type": "code",
   "execution_count": 14,
   "id": "995ab442-78c7-497d-af22-954377487383",
   "metadata": {},
   "outputs": [
    {
     "data": {
      "text/plain": [
       "array([1., 2., 3., 4.])"
      ]
     },
     "execution_count": 14,
     "metadata": {},
     "output_type": "execute_result"
    }
   ],
   "source": [
    "np.arange(1.0,5.0)"
   ]
  },
  {
   "cell_type": "markdown",
   "id": "92d0f973-1e73-45aa-95a4-9ccd5f4b4f06",
   "metadata": {},
   "source": [
    "还可以指定step参数"
   ]
  },
  {
   "cell_type": "code",
   "execution_count": 15,
   "id": "16bc4887-584f-4fe9-97e4-179d5bdfeabe",
   "metadata": {},
   "outputs": [
    {
     "data": {
      "text/plain": [
       "array([1. , 1.5, 2. , 2.5, 3. , 3.5, 4. , 4.5])"
      ]
     },
     "execution_count": 15,
     "metadata": {},
     "output_type": "execute_result"
    }
   ],
   "source": [
    "np.arange(1,5,0.5)"
   ]
  },
  {
   "cell_type": "markdown",
   "id": "a7e17041-d6ab-4ac1-8dc3-13b16b62fd92",
   "metadata": {},
   "source": [
    "但是，在处理float类型的数据时，结果可能是不确定的，比如下面这个例子："
   ]
  },
  {
   "cell_type": "code",
   "execution_count": 16,
   "id": "71afc151-1812-4471-a636-8d6c3c9d6c91",
   "metadata": {},
   "outputs": [
    {
     "name": "stdout",
     "output_type": "stream",
     "text": [
      "[0.         0.33333333 0.66666667 1.         1.33333333 1.66666667]\n",
      "[0.         0.33333333 0.66666667 1.         1.33333333 1.66666667]\n",
      "[0.         0.33333333 0.66666667 1.         1.33333334]\n"
     ]
    }
   ],
   "source": [
    "print(np.arange(0, 5/3, 1/3)) # depending on floating point errors, the max value is 4/3 or 5/3.\n",
    "print(np.arange(0, 5/3, 0.333333333))\n",
    "print(np.arange(0, 5/3, 0.333333334))"
   ]
  },
  {
   "cell_type": "markdown",
   "id": "37166aea-2de6-4bc8-9104-34eb588b0fe1",
   "metadata": {},
   "source": [
    "## np.linspace"
   ]
  },
  {
   "cell_type": "markdown",
   "id": "2cf2b26f-4560-4033-9daf-9c8ec9efd67c",
   "metadata": {},
   "source": [
    "因为arange存在上面这个问题，通常推荐使用`linspace`,这个函数返回一个指定个数的数组，数组中的值均匀分布在min,max之间，并且包含max值，这点于arange不一样"
   ]
  },
  {
   "cell_type": "code",
   "execution_count": 17,
   "id": "d9488df3-f199-41cb-8d5d-9399bfb44b30",
   "metadata": {},
   "outputs": [
    {
     "data": {
      "text/plain": [
       "array([0.        , 0.33333333, 0.66666667, 1.        , 1.33333333,\n",
       "       1.66666667])"
      ]
     },
     "execution_count": 17,
     "metadata": {},
     "output_type": "execute_result"
    }
   ],
   "source": [
    "np.linspace(0,5/3,6)"
   ]
  },
  {
   "cell_type": "markdown",
   "id": "89fb5ac8-48b9-43d8-91f6-fa3d1e0dd49f",
   "metadata": {},
   "source": [
    "## np.rand和np.randn"
   ]
  },
  {
   "cell_type": "markdown",
   "id": "51f6fc68-a11a-42b1-a168-36161bde92d4",
   "metadata": {},
   "source": [
    "创建一个3x4，值在0-1之间随机的数组(均匀分布)"
   ]
  },
  {
   "cell_type": "code",
   "execution_count": 18,
   "id": "97d1cf28-1fdf-44b8-a050-73455d031aaf",
   "metadata": {},
   "outputs": [
    {
     "data": {
      "text/plain": [
       "array([[0.89186858, 0.81324596, 0.22911736, 0.30293326],\n",
       "       [0.89671354, 0.18957495, 0.67593573, 0.42688871],\n",
       "       [0.92352589, 0.61978843, 0.60551857, 0.86831125]])"
      ]
     },
     "execution_count": 18,
     "metadata": {},
     "output_type": "execute_result"
    }
   ],
   "source": [
    "np.random.rand(3,4)"
   ]
  },
  {
   "cell_type": "markdown",
   "id": "5c15f278-256d-4a77-a162-1a4d49891455",
   "metadata": {},
   "source": [
    "创建一个3x4，值随机的数组(正态分布(normal distribution | Gaussian distribution))，均值(mean)为0，方差为1"
   ]
  },
  {
   "cell_type": "code",
   "execution_count": 19,
   "id": "0c76db30-e06b-4d17-a2b0-88b208b2ba7c",
   "metadata": {},
   "outputs": [
    {
     "data": {
      "text/plain": [
       "array([[-0.95733445, -1.49481261,  0.86543503,  0.33684155],\n",
       "       [ 1.42579232, -0.36543546,  1.07788996, -0.05392863],\n",
       "       [-0.15447144, -0.44613954,  1.29222074,  0.80864624]])"
      ]
     },
     "execution_count": 19,
     "metadata": {},
     "output_type": "execute_result"
    }
   ],
   "source": [
    "np.random.randn(3,4)"
   ]
  },
  {
   "cell_type": "markdown",
   "id": "d0cf737e-7c85-4a87-8057-f8aa1e36b376",
   "metadata": {},
   "source": [
    "画图看下数据"
   ]
  },
  {
   "cell_type": "code",
   "execution_count": 22,
   "id": "9724d542-b667-41a0-8db4-0f4442251edf",
   "metadata": {},
   "outputs": [
    {
     "data": {
      "image/png": "[encoded data removed]",
      "text/plain": [
       "<Figure size 640x480 with 1 Axes>"
      ]
     },
     "metadata": {},
     "output_type": "display_data"
    }
   ],
   "source": [
    "import matplotlib.pyplot as plt\n",
    "\n",
    "plt.hist(np.random.rand(100000), density=True, bins=100, histtype=\"step\", color=\"blue\", label=\"rand\")\n",
    "plt.hist(np.random.randn(100000), density=True, bins=100, histtype=\"step\", color=\"red\", label=\"randn\")\n",
    "plt.axis([-2.5, 2.5, 0, 1.1])\n",
    "plt.legend(loc = \"upper left\")\n",
    "plt.title(\"Random distributions\")\n",
    "plt.xlabel(\"Value\")\n",
    "plt.ylabel(\"Density\")\n",
    "plt.show()"
   ]
  },
  {
   "cell_type": "markdown",
   "id": "2cd3c28b-0c3d-4d0b-b8ef-32c09d91ec2b",
   "metadata": {},
   "source": [
    "## np.fromfunction"
   ]
  },
  {
   "cell_type": "code",
   "execution_count": 26,
   "id": "1cc25863-4a92-4e9c-b532-0aed8544cab2",
   "metadata": {},
   "outputs": [
    {
     "data": {
      "text/plain": [
       "array([[[  0.,   1.,   2.,   3.,   4.,   5.,   6.,   7.,   8.,   9.],\n",
       "        [ 10.,  11.,  12.,  13.,  14.,  15.,  16.,  17.,  18.,  19.]],\n",
       "\n",
       "       [[100., 101., 102., 103., 104., 105., 106., 107., 108., 109.],\n",
       "        [110., 111., 112., 113., 114., 115., 116., 117., 118., 119.]],\n",
       "\n",
       "       [[200., 201., 202., 203., 204., 205., 206., 207., 208., 209.],\n",
       "        [210., 211., 212., 213., 214., 215., 216., 217., 218., 219.]]])"
      ]
     },
     "execution_count": 26,
     "metadata": {},
     "output_type": "execute_result"
    }
   ],
   "source": [
    "def my_function(z, y, x):\n",
    "    return x + 10 * y + 100 * z\n",
    "\n",
    "np.fromfunction(my_function, (3, 2, 10))"
   ]
  },
  {
   "cell_type": "markdown",
   "id": "d1540e77-a232-4bcc-a08a-561324f895a5",
   "metadata": {
    "jp-MarkdownHeadingCollapsed": true
   },
   "source": [
    "# Array data"
   ]
  },
  {
   "cell_type": "code",
   "execution_count": 31,
   "id": "78148432-6bc9-4bc4-b0fc-d6b18c9830e4",
   "metadata": {},
   "outputs": [
    {
     "name": "stdout",
     "output_type": "stream",
     "text": [
      "int64 [1 2 3 4]\n"
     ]
    }
   ],
   "source": [
    "d = np.arange(1, 5, dtype=np.int64)\n",
    "print(d.dtype, d)"
   ]
  },
  {
   "cell_type": "markdown",
   "id": "1a16db6f-a44e-41cf-90f1-f5c3d2e051b0",
   "metadata": {},
   "source": [
    "Available data types include signed int8, int16, int32, int64, unsigned uint8|16|32|64, float16|32|64 and complex64|128"
   ]
  },
  {
   "cell_type": "markdown",
   "id": "fb70758b-2680-448c-a0ca-fb8a04b6a030",
   "metadata": {
    "jp-MarkdownHeadingCollapsed": true
   },
   "source": [
    "# Reshaping an array"
   ]
  },
  {
   "cell_type": "markdown",
   "id": "4220d0f0-9616-4f33-876f-29e91872df93",
   "metadata": {},
   "source": [
    "## 就地替换"
   ]
  },
  {
   "cell_type": "code",
   "execution_count": 33,
   "id": "2985f543-8cdf-407c-b10f-4f6c52da2dbd",
   "metadata": {},
   "outputs": [
    {
     "name": "stdout",
     "output_type": "stream",
     "text": [
      "[ 0  1  2  3  4  5  6  7  8  9 10 11 12 13 14 15 16 17 18 19 20 21 22 23]\n",
      "Rank: 1\n"
     ]
    }
   ],
   "source": [
    "g = np.arange(24)\n",
    "print(g)\n",
    "print(\"Rank:\", g.ndim)"
   ]
  },
  {
   "cell_type": "markdown",
   "id": "2e9e6ed9-c10c-4583-8cfe-0a76c4dbb6db",
   "metadata": {},
   "source": [
    "替换直接修改`ndarray`的`shape`属性就行"
   ]
  },
  {
   "cell_type": "code",
   "execution_count": 39,
   "id": "28b5d202-e8c6-47d0-beb4-fba5a5ea7c2b",
   "metadata": {},
   "outputs": [
    {
     "name": "stdout",
     "output_type": "stream",
     "text": [
      "[[ 0  1  2  3]\n",
      " [ 4  5  6  7]\n",
      " [ 8  9 10 11]\n",
      " [12 13 14 15]\n",
      " [16 17 18 19]\n",
      " [20 21 22 23]]\n",
      "Rank: 2\n"
     ]
    }
   ],
   "source": [
    "g.shape=(6,4)\n",
    "print(g)\n",
    "print(\"Rank:\", g.ndim)"
   ]
  },
  {
   "cell_type": "code",
   "execution_count": 40,
   "id": "74c2793a-1a01-4bf4-b931-6acf4c3368e6",
   "metadata": {},
   "outputs": [
    {
     "name": "stdout",
     "output_type": "stream",
     "text": [
      "[[[ 0  1  2  3]\n",
      "  [ 4  5  6  7]\n",
      "  [ 8  9 10 11]]\n",
      "\n",
      " [[12 13 14 15]\n",
      "  [16 17 18 19]\n",
      "  [20 21 22 23]]]\n",
      "Rank: 3\n"
     ]
    }
   ],
   "source": [
    "g.shape=(2,3,4)\n",
    "print(g)\n",
    "print(\"Rank:\", g.ndim)"
   ]
  },
  {
   "cell_type": "markdown",
   "id": "90e697b8-30d0-4238-81ba-d902cc9d70fa",
   "metadata": {},
   "source": [
    "## reshape"
   ]
  },
  {
   "cell_type": "markdown",
   "id": "2b019db7-51c8-49b4-980d-30e66c019ecd",
   "metadata": {},
   "source": [
    "`reshape`会创建一个新的数组，但是底层数据仍然是同一份。"
   ]
  },
  {
   "cell_type": "code",
   "execution_count": 42,
   "id": "3dcfb88a-418d-4cc7-b9de-e4820b3e803f",
   "metadata": {},
   "outputs": [
    {
     "name": "stdout",
     "output_type": "stream",
     "text": [
      "[[ 0  1  2  3  4  5]\n",
      " [ 6  7  8  9 10 11]\n",
      " [12 13 14 15 16 17]\n",
      " [18 19 20 21 22 23]]\n",
      "Rank: 2\n"
     ]
    }
   ],
   "source": [
    "g2 = g.reshape(4,6)\n",
    "print(g2)\n",
    "print(\"Rank:\", g2.ndim)"
   ]
  },
  {
   "cell_type": "markdown",
   "id": "ca62ce86-f965-4e98-8e66-9e0be691bc06",
   "metadata": {},
   "source": [
    "修改一下数据"
   ]
  },
  {
   "cell_type": "code",
   "execution_count": 43,
   "id": "78ad4a94-f51e-44e3-9906-ea67a61989c9",
   "metadata": {},
   "outputs": [
    {
     "data": {
      "text/plain": [
       "array([[  0,   1,   2,   3,   4,   5],\n",
       "       [  6,   7, 999,   9,  10,  11],\n",
       "       [ 12,  13,  14,  15,  16,  17],\n",
       "       [ 18,  19,  20,  21,  22,  23]])"
      ]
     },
     "execution_count": 43,
     "metadata": {},
     "output_type": "execute_result"
    }
   ],
   "source": [
    "g2[1, 2] = 999\n",
    "g2"
   ]
  },
  {
   "cell_type": "markdown",
   "id": "fec9676d-057f-433c-89ed-2fe7e70dd1e7",
   "metadata": {},
   "source": [
    "g的数据也会改变"
   ]
  },
  {
   "cell_type": "code",
   "execution_count": 44,
   "id": "321a34bd-3330-4b5f-a3e1-af5081b6a57b",
   "metadata": {},
   "outputs": [
    {
     "data": {
      "text/plain": [
       "array([[[  0,   1,   2,   3],\n",
       "        [  4,   5,   6,   7],\n",
       "        [999,   9,  10,  11]],\n",
       "\n",
       "       [[ 12,  13,  14,  15],\n",
       "        [ 16,  17,  18,  19],\n",
       "        [ 20,  21,  22,  23]]])"
      ]
     },
     "execution_count": 44,
     "metadata": {},
     "output_type": "execute_result"
    }
   ],
   "source": [
    "g"
   ]
  },
  {
   "cell_type": "markdown",
   "id": "15540cca-d426-450f-9af6-c121a8c05062",
   "metadata": {},
   "source": [
    "## ravel"
   ]
  },
  {
   "cell_type": "markdown",
   "id": "2bb16f23-af2a-4d67-bbe7-b6293fd41c0d",
   "metadata": {},
   "source": [
    "返回一个新的一位数组，底层数据仍然相同"
   ]
  },
  {
   "cell_type": "code",
   "execution_count": 47,
   "id": "3f0e74a7-badd-4670-81a6-45d1b08df613",
   "metadata": {},
   "outputs": [
    {
     "data": {
      "text/plain": [
       "array([  0,   1,   2,   3,   4,   5,   6,   7, 999,   9,  10,  11,  12,\n",
       "        13,  14,  15,  16,  17,  18,  19,  20,  21,  22,  23])"
      ]
     },
     "execution_count": 47,
     "metadata": {},
     "output_type": "execute_result"
    }
   ],
   "source": [
    "g.ravel()"
   ]
  },
  {
   "cell_type": "markdown",
   "id": "9ea65f14-2d06-4690-92ac-610b6e5544e5",
   "metadata": {
    "jp-MarkdownHeadingCollapsed": true
   },
   "source": [
    "# 算术运算"
   ]
  },
  {
   "cell_type": "markdown",
   "id": "57a85012-ae8e-4536-a506-c5cdf5b03cac",
   "metadata": {},
   "source": [
    "支持常规的算术运算。"
   ]
  },
  {
   "cell_type": "code",
   "execution_count": 49,
   "id": "26cb1a5d-6e07-46bb-bf05-3e3f5ac13414",
   "metadata": {},
   "outputs": [
    {
     "name": "stdout",
     "output_type": "stream",
     "text": [
      "a + b  = [19 27 35 43]\n",
      "a - b  = [ 9 19 29 39]\n",
      "a * b  = [70 92 96 82]\n",
      "a / b  = [ 2.8         5.75       10.66666667 20.5       ]\n",
      "a // b  = [ 2  5 10 20]\n",
      "a % b  = [4 3 2 1]\n",
      "a ** b = [537824 279841  32768   1681]\n",
      "The history saving thread hit an unexpected error (OperationalError('attempt to write a readonly database')).History will not be written to the database.\n"
     ]
    }
   ],
   "source": [
    "a = np.array([14, 23, 32, 41])\n",
    "b = np.array([5,  4,  3,  2])\n",
    "print(\"a + b  =\", a + b)\n",
    "print(\"a - b  =\", a - b)\n",
    "print(\"a * b  =\", a * b)\n",
    "print(\"a / b  =\", a / b)\n",
    "print(\"a // b  =\", a // b)\n",
    "print(\"a % b  =\", a % b)\n",
    "print(\"a ** b =\", a ** b)"
   ]
  },
  {
   "cell_type": "markdown",
   "id": "8612f8d5-4f11-4415-9c22-156dc5718832",
   "metadata": {},
   "source": [
    "shape必须相同，不同的话就会是`broadcasting`"
   ]
  },
  {
   "cell_type": "markdown",
   "id": "e0f2f90f-5be6-474a-9a96-8fce0d2493d4",
   "metadata": {
    "jp-MarkdownHeadingCollapsed": true
   },
   "source": [
    "# Broadcasting"
   ]
  },
  {
   "cell_type": "markdown",
   "id": "1555b18d-6501-42e9-b1e4-7cabcc3d2e6b",
   "metadata": {},
   "source": [
    "## 第一规则\n",
    "\n",
    "秩不同的，扩展较小秩"
   ]
  },
  {
   "cell_type": "code",
   "execution_count": 51,
   "id": "c7e192f8-8519-4d53-bf46-cec212e62a1f",
   "metadata": {},
   "outputs": [
    {
     "data": {
      "text/plain": [
       "array([[[0, 1, 2, 3, 4]]])"
      ]
     },
     "execution_count": 51,
     "metadata": {},
     "output_type": "execute_result"
    }
   ],
   "source": [
    "h = np.arange(5).reshape(1, 1, 5)\n",
    "h"
   ]
  },
  {
   "cell_type": "code",
   "execution_count": 52,
   "id": "9c0bf95d-5fce-4608-937c-b5e01bfe15fa",
   "metadata": {},
   "outputs": [
    {
     "data": {
      "text/plain": [
       "array([[[10, 21, 32, 43, 54]]])"
      ]
     },
     "execution_count": 52,
     "metadata": {},
     "output_type": "execute_result"
    }
   ],
   "source": [
    "h + [10, 20, 30, 40, 50]  # same as: h + [[[10, 20, 30, 40, 50]]]"
   ]
  },
  {
   "cell_type": "markdown",
   "id": "75e45a39-de33-4963-a386-07dd7e1252fc",
   "metadata": {},
   "source": [
    "(5,)的数组会被扩展成(1,1,5)"
   ]
  },
  {
   "cell_type": "markdown",
   "id": "fe71212f-c3e7-4b65-ae23-d8033183f598",
   "metadata": {},
   "source": [
    "## 第二规则\n",
    "\n",
    "以最大size的轴为基础，向其他轴上扩展数据"
   ]
  },
  {
   "cell_type": "code",
   "execution_count": 55,
   "id": "2b2941af-7d43-4d78-801c-18c4f5ce0d03",
   "metadata": {},
   "outputs": [
    {
     "data": {
      "text/plain": [
       "array([[0, 1, 2],\n",
       "       [3, 4, 5]])"
      ]
     },
     "execution_count": 55,
     "metadata": {},
     "output_type": "execute_result"
    }
   ],
   "source": [
    "k = np.arange(6).reshape(2, 3)\n",
    "k"
   ]
  },
  {
   "cell_type": "code",
   "execution_count": 56,
   "id": "ec7ba237-efae-404a-88e5-3557710f3153",
   "metadata": {},
   "outputs": [
    {
     "data": {
      "text/plain": [
       "array([[100, 101, 102],\n",
       "       [203, 204, 205]])"
      ]
     },
     "execution_count": 56,
     "metadata": {},
     "output_type": "execute_result"
    }
   ],
   "source": [
    "k + [[100], [200]]  # same as: k + [[100, 100, 100], [200, 200, 200]]"
   ]
  },
  {
   "cell_type": "markdown",
   "id": "772f898b-7acf-439f-9ca1-67d0d20c142b",
   "metadata": {},
   "source": [
    "(2,3) + (2,1) 那么会以(2,)这个轴作为基础，扩展成(2,3)"
   ]
  },
  {
   "cell_type": "markdown",
   "id": "581f5015-5d35-4ead-bb31-df768b23ed18",
   "metadata": {},
   "source": [
    "结合1+2规则，可以实现："
   ]
  },
  {
   "cell_type": "code",
   "execution_count": 59,
   "id": "349f68af-8677-405c-be6c-b77ca319cb55",
   "metadata": {},
   "outputs": [
    {
     "data": {
      "text/plain": [
       "array([[100, 201, 302],\n",
       "       [103, 204, 305]])"
      ]
     },
     "execution_count": 59,
     "metadata": {},
     "output_type": "execute_result"
    }
   ],
   "source": [
    "k + [100, 200, 300]  # after rule 1: [[100, 200, 300]], and after rule 2: [[100, 200, 300], [100, 200, 300]]"
   ]
  },
  {
   "cell_type": "code",
   "execution_count": 60,
   "id": "6b38e110-8b4b-4282-953f-1781d2fecbbe",
   "metadata": {},
   "outputs": [
    {
     "data": {
      "text/plain": [
       "array([[1000, 1001, 1002],\n",
       "       [1003, 1004, 1005]])"
      ]
     },
     "execution_count": 60,
     "metadata": {},
     "output_type": "execute_result"
    }
   ],
   "source": [
    "k + 1000  # same as: k + [[1000, 1000, 1000], [1000, 1000, 1000]]"
   ]
  },
  {
   "cell_type": "markdown",
   "id": "9a3111da-ebb0-4187-91da-63b30a3b5cf6",
   "metadata": {},
   "source": [
    "## 第三规则\n",
    "\n",
    "经过第1，2规则后，2个数组的size必须一样。"
   ]
  },
  {
   "cell_type": "code",
   "execution_count": 61,
   "id": "e68d52dc-a605-436c-9b32-453f56855bdb",
   "metadata": {},
   "outputs": [
    {
     "name": "stdout",
     "output_type": "stream",
     "text": [
      "operands could not be broadcast together with shapes (2,3) (2,) \n"
     ]
    }
   ],
   "source": [
    "try:\n",
    "    k + [33, 44]\n",
    "except ValueError as e:\n",
    "    print(e)"
   ]
  },
  {
   "cell_type": "markdown",
   "id": "074e8888-ebee-464b-ad06-eb3b8dd70cc7",
   "metadata": {
    "jp-MarkdownHeadingCollapsed": true
   },
   "source": [
    "# 条件操作"
   ]
  },
  {
   "cell_type": "code",
   "execution_count": 63,
   "id": "bdc3d842-84e2-4b6f-bfa2-a507e1bdb7e9",
   "metadata": {},
   "outputs": [
    {
     "data": {
      "text/plain": [
       "array([False,  True,  True, False])"
      ]
     },
     "execution_count": 63,
     "metadata": {},
     "output_type": "execute_result"
    }
   ],
   "source": [
    "m = np.array([20, -5, 30, 40])\n",
    "m < [15, 16, 35, 36]"
   ]
  },
  {
   "cell_type": "code",
   "execution_count": 65,
   "id": "6b004a60-7de1-4ecb-8088-13a1a37b42f1",
   "metadata": {},
   "outputs": [
    {
     "data": {
      "text/plain": [
       "array([ True,  True, False, False])"
      ]
     },
     "execution_count": 65,
     "metadata": {},
     "output_type": "execute_result"
    }
   ],
   "source": [
    "m < 25  # equivalent to m < [25, 25, 25, 25]"
   ]
  },
  {
   "cell_type": "code",
   "execution_count": 67,
   "id": "4ea067ee-d747-4813-bcf4-fe4a2e20a4fd",
   "metadata": {},
   "outputs": [
    {
     "data": {
      "text/plain": [
       "array([20, -5])"
      ]
     },
     "execution_count": 67,
     "metadata": {},
     "output_type": "execute_result"
    }
   ],
   "source": [
    "m[m < 25]"
   ]
  },
  {
   "cell_type": "markdown",
   "id": "fd56c07a-5314-4455-94e5-39840a69cd95",
   "metadata": {
    "jp-MarkdownHeadingCollapsed": true
   },
   "source": [
    "# 统计操作"
   ]
  },
  {
   "cell_type": "markdown",
   "id": "59e27489-9ae5-4db6-b93f-f4980f43943a",
   "metadata": {},
   "source": [
    "## ndarray 方法"
   ]
  },
  {
   "cell_type": "code",
   "execution_count": 68,
   "id": "9e1e16e6-93c8-4597-9a01-5f5bd1ecf6fe",
   "metadata": {},
   "outputs": [
    {
     "name": "stdout",
     "output_type": "stream",
     "text": [
      "[[-2.5  3.1  7. ]\n",
      " [10.  11.  12. ]]\n",
      "mean = 6.766666666666667\n"
     ]
    }
   ],
   "source": [
    "a = np.array([[-2.5, 3.1, 7], [10, 11, 12]])\n",
    "print(a)\n",
    "print(\"mean =\", a.mean())"
   ]
  },
  {
   "cell_type": "markdown",
   "id": "189331ad-dccb-4fef-8c7e-20c0c3ee2aba",
   "metadata": {},
   "source": [
    "一些ndarray方法"
   ]
  },
  {
   "cell_type": "code",
   "execution_count": 70,
   "id": "c47a52a0-e2ee-4469-b6d0-8b8155de950d",
   "metadata": {},
   "outputs": [
    {
     "name": "stdout",
     "output_type": "stream",
     "text": [
      "min = -2.5\n",
      "max = 12.0\n",
      "sum = 40.6\n",
      "prod = -71610.0\n",
      "std = 5.084835843520964\n",
      "var = 25.855555555555554\n"
     ]
    }
   ],
   "source": [
    "for func in (a.min, a.max, a.sum, a.prod, a.std, a.var):\n",
    "    print(func.__name__, \"=\", func())"
   ]
  },
  {
   "cell_type": "markdown",
   "id": "9b3a69b0-f6f9-42f7-82b4-74cf092ecd50",
   "metadata": {},
   "source": [
    "这些方法都有个`axis`参数，可以指定按这个`axis`来统计"
   ]
  },
  {
   "cell_type": "code",
   "execution_count": 71,
   "id": "d77bce1d-3cd9-494a-b9bc-1a427b70b15a",
   "metadata": {},
   "outputs": [
    {
     "data": {
      "text/plain": [
       "array([[[ 0,  1,  2,  3],\n",
       "        [ 4,  5,  6,  7],\n",
       "        [ 8,  9, 10, 11]],\n",
       "\n",
       "       [[12, 13, 14, 15],\n",
       "        [16, 17, 18, 19],\n",
       "        [20, 21, 22, 23]]])"
      ]
     },
     "execution_count": 71,
     "metadata": {},
     "output_type": "execute_result"
    }
   ],
   "source": [
    "c=np.arange(24).reshape(2,3,4)\n",
    "c"
   ]
  },
  {
   "cell_type": "code",
   "execution_count": 72,
   "id": "18e82ccb-c64a-4530-92ac-77c9b2919bbc",
   "metadata": {},
   "outputs": [
    {
     "data": {
      "text/plain": [
       "array([[12, 14, 16, 18],\n",
       "       [20, 22, 24, 26],\n",
       "       [28, 30, 32, 34]])"
      ]
     },
     "execution_count": 72,
     "metadata": {},
     "output_type": "execute_result"
    }
   ],
   "source": [
    "c.sum(axis=0)  # sum across matrices"
   ]
  },
  {
   "cell_type": "code",
   "execution_count": 74,
   "id": "1b90f540-892f-4e2c-ad98-af32422acd95",
   "metadata": {},
   "outputs": [
    {
     "data": {
      "text/plain": [
       "array([[12, 15, 18, 21],\n",
       "       [48, 51, 54, 57]])"
      ]
     },
     "execution_count": 74,
     "metadata": {},
     "output_type": "execute_result"
    }
   ],
   "source": [
    "c.sum(axis=1)  # sum across rows"
   ]
  },
  {
   "cell_type": "code",
   "execution_count": 76,
   "id": "65bd6437-dbed-4589-a24e-32c4d2f49adf",
   "metadata": {},
   "outputs": [
    {
     "data": {
      "text/plain": [
       "array([ 60,  92, 124])"
      ]
     },
     "execution_count": 76,
     "metadata": {},
     "output_type": "execute_result"
    }
   ],
   "source": [
    "c.sum(axis=(0,2)) "
   ]
  },
  {
   "cell_type": "markdown",
   "id": "6e66b4c2-b208-42dd-8528-599c2eba8bfc",
   "metadata": {},
   "source": [
    "## 通用功能"
   ]
  },
  {
   "cell_type": "code",
   "execution_count": 79,
   "id": "006e9b56-7a1a-486c-a9e2-b27d7b8d2c23",
   "metadata": {},
   "outputs": [
    {
     "data": {
      "text/plain": [
       "array([[  6.25,   9.61,  49.  ],\n",
       "       [100.  , 121.  , 144.  ]])"
      ]
     },
     "execution_count": 79,
     "metadata": {},
     "output_type": "execute_result"
    }
   ],
   "source": [
    "a = np.array([[-2.5, 3.1, 7], [10, 11, 12]])\n",
    "np.square(a)"
   ]
  },
  {
   "cell_type": "code",
   "execution_count": 81,
   "id": "8fc62adf-fa9c-4e1f-8bd2-e5ee767963a3",
   "metadata": {},
   "outputs": [
    {
     "name": "stdout",
     "output_type": "stream",
     "text": [
      "Original ndarray\n",
      "[[-2.5  3.1  7. ]\n",
      " [10.  11.  12. ]]\n",
      "\n",
      " absolute\n",
      "[[ 2.5  3.1  7. ]\n",
      " [10.  11.  12. ]]\n",
      "\n",
      " sqrt\n",
      "[[       nan 1.76068169 2.64575131]\n",
      " [3.16227766 3.31662479 3.46410162]]\n",
      "\n",
      " exp\n",
      "[[8.20849986e-02 2.21979513e+01 1.09663316e+03]\n",
      " [2.20264658e+04 5.98741417e+04 1.62754791e+05]]\n",
      "\n",
      " log\n",
      "[[       nan 1.13140211 1.94591015]\n",
      " [2.30258509 2.39789527 2.48490665]]\n",
      "\n",
      " sign\n",
      "[[-1.  1.  1.]\n",
      " [ 1.  1.  1.]]\n",
      "\n",
      " ceil\n",
      "[[-2.  4.  7.]\n",
      " [10. 11. 12.]]\n",
      "\n",
      " modf\n",
      "(array([[-0.5,  0.1,  0. ],\n",
      "       [ 0. ,  0. ,  0. ]]), array([[-2.,  3.,  7.],\n",
      "       [10., 11., 12.]]))\n",
      "\n",
      " isnan\n",
      "[[False False False]\n",
      " [False False False]]\n",
      "\n",
      " cos\n",
      "[[-0.80114362 -0.99913515  0.75390225]\n",
      " [-0.83907153  0.0044257   0.84385396]]\n"
     ]
    },
    {
     "name": "stderr",
     "output_type": "stream",
     "text": [
      "/var/folders/37/n_m54j2s5jq7d4kv0fdnm0yc0000gp/T/ipykernel_64696/2634842825.py:5: RuntimeWarning: invalid value encountered in sqrt\n",
      "  print(func(a))\n",
      "/var/folders/37/n_m54j2s5jq7d4kv0fdnm0yc0000gp/T/ipykernel_64696/2634842825.py:5: RuntimeWarning: invalid value encountered in log\n",
      "  print(func(a))\n"
     ]
    }
   ],
   "source": [
    "print(\"Original ndarray\")\n",
    "print(a)\n",
    "for func in (np.abs, np.sqrt, np.exp, np.log, np.sign, np.ceil, np.modf, np.isnan, np.cos):\n",
    "    print(\"\\n\", func.__name__)\n",
    "    print(func(a))"
   ]
  },
  {
   "cell_type": "markdown",
   "id": "9c19100f-268d-4aac-92a7-0dac35c4a92f",
   "metadata": {},
   "source": [
    "## Binary ufuncs"
   ]
  },
  {
   "cell_type": "code",
   "execution_count": 83,
   "id": "1572bcee-94b7-4081-9303-8c551bdc9d59",
   "metadata": {},
   "outputs": [
    {
     "data": {
      "text/plain": [
       "array([ 3,  6,  2, 11])"
      ]
     },
     "execution_count": 83,
     "metadata": {},
     "output_type": "execute_result"
    }
   ],
   "source": [
    "a = np.array([1, -2, 3, 4])\n",
    "b = np.array([2, 8, -1, 7])\n",
    "np.add(a, b)  # equivalent to a + b"
   ]
  },
  {
   "cell_type": "code",
   "execution_count": 85,
   "id": "c44eb7dc-0054-46e8-ab90-f97081242694",
   "metadata": {},
   "outputs": [
    {
     "data": {
      "text/plain": [
       "array([False, False,  True, False])"
      ]
     },
     "execution_count": 85,
     "metadata": {},
     "output_type": "execute_result"
    }
   ],
   "source": [
    "np.greater(a, b)  # equivalent to a > b"
   ]
  },
  {
   "cell_type": "code",
   "execution_count": 87,
   "id": "a5f78361-ab97-46a4-93c1-efdfe6837f7c",
   "metadata": {},
   "outputs": [
    {
     "data": {
      "text/plain": [
       "array([2, 8, 3, 7])"
      ]
     },
     "execution_count": 87,
     "metadata": {},
     "output_type": "execute_result"
    }
   ],
   "source": [
    "np.maximum(a, b)"
   ]
  },
  {
   "cell_type": "code",
   "execution_count": 88,
   "id": "9916ba5b-66da-42ac-a0fa-6d8f930a0083",
   "metadata": {},
   "outputs": [
    {
     "data": {
      "text/plain": [
       "array([ 1.,  2., -3.,  4.])"
      ]
     },
     "execution_count": 88,
     "metadata": {},
     "output_type": "execute_result"
    }
   ],
   "source": [
    "np.copysign(a, b)"
   ]
  },
  {
   "cell_type": "markdown",
   "id": "f30d320c-0e70-44c7-9947-82a3d32a7260",
   "metadata": {
    "jp-MarkdownHeadingCollapsed": true
   },
   "source": [
    "# Array indexing"
   ]
  },
  {
   "cell_type": "markdown",
   "id": "58301aa9-4561-41cd-ab17-7e5d2fca3f3d",
   "metadata": {},
   "source": [
    "## 一维数组"
   ]
  },
  {
   "cell_type": "markdown",
   "id": "9ed5f87c-db03-4cce-a601-627164b15d9a",
   "metadata": {},
   "source": [
    "a = np.array([1, 5, 3, 19, 13, 7, 3])\n",
    "a[3]"
   ]
  },
  {
   "cell_type": "code",
   "execution_count": 91,
   "id": "d4940ac9-34e8-4680-b8b8-433e705fe126",
   "metadata": {},
   "outputs": [
    {
     "data": {
      "text/plain": [
       "array([ 3, 19, 13])"
      ]
     },
     "execution_count": 91,
     "metadata": {},
     "output_type": "execute_result"
    }
   ],
   "source": [
    "a[2:5]"
   ]
  },
  {
   "cell_type": "code",
   "execution_count": 92,
   "id": "0e00b861-2836-4810-abc7-6ac6f22c2385",
   "metadata": {},
   "outputs": [
    {
     "data": {
      "text/plain": [
       "array([ 3, 19, 13,  7])"
      ]
     },
     "execution_count": 92,
     "metadata": {},
     "output_type": "execute_result"
    }
   ],
   "source": [
    "a[2:-1]"
   ]
  },
  {
   "cell_type": "code",
   "execution_count": 93,
   "id": "6db7d883-8a5d-4b21-b463-b658c169ed3f",
   "metadata": {},
   "outputs": [
    {
     "data": {
      "text/plain": [
       "array([1, 5])"
      ]
     },
     "execution_count": 93,
     "metadata": {},
     "output_type": "execute_result"
    }
   ],
   "source": [
    "a[:2]"
   ]
  },
  {
   "cell_type": "code",
   "execution_count": 94,
   "id": "8cb0b5e5-21fc-45b0-99e2-6dd9dce5b8ef",
   "metadata": {},
   "outputs": [
    {
     "data": {
      "text/plain": [
       "array([ 3, 13,  3])"
      ]
     },
     "execution_count": 94,
     "metadata": {},
     "output_type": "execute_result"
    }
   ],
   "source": [
    "a[2::2]"
   ]
  },
  {
   "cell_type": "code",
   "execution_count": 95,
   "id": "d5ac9d14-0ddc-48d1-90c5-80ae0e0f7f98",
   "metadata": {},
   "outputs": [
    {
     "data": {
      "text/plain": [
       "array([ 3,  7, 13, 19,  3,  5,  1])"
      ]
     },
     "execution_count": 95,
     "metadata": {},
     "output_type": "execute_result"
    }
   ],
   "source": [
    "a[::-1]"
   ]
  },
  {
   "cell_type": "code",
   "execution_count": 96,
   "id": "04428590-422b-4383-9029-096aa12daaf7",
   "metadata": {},
   "outputs": [
    {
     "data": {
      "text/plain": [
       "array([  1,   5,   3, 999,  13,   7,   3])"
      ]
     },
     "execution_count": 96,
     "metadata": {},
     "output_type": "execute_result"
    }
   ],
   "source": [
    "a[3]=999\n",
    "a"
   ]
  },
  {
   "cell_type": "code",
   "execution_count": 97,
   "id": "9577db26-d824-4c00-ab52-76f89775aa1e",
   "metadata": {},
   "outputs": [
    {
     "data": {
      "text/plain": [
       "array([  1,   5, 997, 998, 999,   7,   3])"
      ]
     },
     "execution_count": 97,
     "metadata": {},
     "output_type": "execute_result"
    }
   ],
   "source": [
    "a[2:5] = [997, 998, 999]\n",
    "a"
   ]
  },
  {
   "cell_type": "markdown",
   "id": "5ef76721-d5a3-4fb3-b3c6-ca3680ff783f",
   "metadata": {},
   "source": [
    "## 与常规Python数组的不同"
   ]
  },
  {
   "cell_type": "markdown",
   "id": "641a1046-9648-4198-886e-3d1e179347d6",
   "metadata": {},
   "source": [
    "由于Broadcasting，单个数会进行扩展"
   ]
  },
  {
   "cell_type": "code",
   "execution_count": 100,
   "id": "63a5aded-7f68-46b2-a646-2f5cf4ee960c",
   "metadata": {},
   "outputs": [
    {
     "data": {
      "text/plain": [
       "array([ 1,  5, -1, -1, -1,  7,  3])"
      ]
     },
     "execution_count": 100,
     "metadata": {},
     "output_type": "execute_result"
    }
   ],
   "source": [
    "a[2:5] = -1\n",
    "a"
   ]
  },
  {
   "cell_type": "code",
   "execution_count": 105,
   "id": "079ad3d3-b5a5-4d19-b722-2791efc6f6bd",
   "metadata": {},
   "outputs": [
    {
     "name": "stdout",
     "output_type": "stream",
     "text": [
      "could not broadcast input array from shape (6,) into shape (3,)\n"
     ]
    }
   ],
   "source": [
    "try:\n",
    "    a[2:5] = [1,2,3,4,5,6]  # too long\n",
    "except ValueError as e:\n",
    "    print(e)"
   ]
  },
  {
   "cell_type": "markdown",
   "id": "e042f123-9c95-43b5-ade3-455d8afc1225",
   "metadata": {},
   "source": [
    "不能删除"
   ]
  },
  {
   "cell_type": "code",
   "execution_count": 103,
   "id": "460f1012-66a9-4d4a-9e5d-b0bb37b94ff0",
   "metadata": {},
   "outputs": [
    {
     "name": "stdout",
     "output_type": "stream",
     "text": [
      "cannot delete array elements\n"
     ]
    }
   ],
   "source": [
    "try:\n",
    "    del a[2:5]\n",
    "except ValueError as e:\n",
    "    print(e)"
   ]
  },
  {
   "cell_type": "markdown",
   "id": "0269a727-32ae-48bb-a969-aad73ae4cbf4",
   "metadata": {},
   "source": [
    "`ndarray`仅仅是底层data buffer的一个view，对`ndarray`的修改都会影响data buffer"
   ]
  },
  {
   "cell_type": "code",
   "execution_count": 107,
   "id": "3a145c33-ec1d-4ee7-9bdd-40380ddeb5c4",
   "metadata": {},
   "outputs": [
    {
     "data": {
      "text/plain": [
       "array([   1,    5,   -1, 1000,   -1,    7,    3])"
      ]
     },
     "execution_count": 107,
     "metadata": {},
     "output_type": "execute_result"
    }
   ],
   "source": [
    "a_slice = a[2:6]\n",
    "a_slice[1] = 1000\n",
    "a  # the original array was modified!"
   ]
  },
  {
   "cell_type": "code",
   "execution_count": 108,
   "id": "6ad92ac1-9a01-45f1-bf26-68db4b7ab7c5",
   "metadata": {},
   "outputs": [
    {
     "data": {
      "text/plain": [
       "array([  -1, 2000,   -1,    7])"
      ]
     },
     "execution_count": 108,
     "metadata": {},
     "output_type": "execute_result"
    }
   ],
   "source": [
    "a[3] = 2000\n",
    "a_slice  # similarly, modifying the original array modifies the slice!"
   ]
  },
  {
   "cell_type": "markdown",
   "id": "599ead9c-8d79-4ce3-95f8-42d7690d067a",
   "metadata": {},
   "source": [
    "如果需要copy数据。需要调用copy()方法。"
   ]
  },
  {
   "cell_type": "code",
   "execution_count": 110,
   "id": "7500c3c3-e624-40bb-8fe1-4f6ec7ba5fec",
   "metadata": {},
   "outputs": [
    {
     "data": {
      "text/plain": [
       "array([   1,    5,   -1, 2000,   -1,    7,    3])"
      ]
     },
     "execution_count": 110,
     "metadata": {},
     "output_type": "execute_result"
    }
   ],
   "source": [
    "another_slice = a[2:6].copy()\n",
    "another_slice[1] = 3000\n",
    "a  # the original array is untouched"
   ]
  },
  {
   "cell_type": "code",
   "execution_count": 111,
   "id": "4065e5da-a491-45fe-be9a-4dd7d0789b00",
   "metadata": {},
   "outputs": [
    {
     "data": {
      "text/plain": [
       "array([  -1, 3000,   -1,    7])"
      ]
     },
     "execution_count": 111,
     "metadata": {},
     "output_type": "execute_result"
    }
   ],
   "source": [
    "a[3] = 4000\n",
    "another_slice  # similarly, modifying the original array does not affect the slice copy"
   ]
  },
  {
   "cell_type": "markdown",
   "id": "1abfff21-43b3-46b2-9703-9eacb5b23c81",
   "metadata": {},
   "source": [
    "## 多维数组"
   ]
  },
  {
   "cell_type": "code",
   "execution_count": 113,
   "id": "1dfbf491-fe30-4e98-a998-2b9f8fb661ae",
   "metadata": {},
   "outputs": [
    {
     "data": {
      "text/plain": [
       "array([[ 0,  1,  2,  3,  4,  5,  6,  7,  8,  9, 10, 11],\n",
       "       [12, 13, 14, 15, 16, 17, 18, 19, 20, 21, 22, 23],\n",
       "       [24, 25, 26, 27, 28, 29, 30, 31, 32, 33, 34, 35],\n",
       "       [36, 37, 38, 39, 40, 41, 42, 43, 44, 45, 46, 47]])"
      ]
     },
     "execution_count": 113,
     "metadata": {},
     "output_type": "execute_result"
    }
   ],
   "source": [
    "b = np.arange(48).reshape(4, 12)\n",
    "b"
   ]
  },
  {
   "cell_type": "code",
   "execution_count": 115,
   "id": "f5e50fa9-242c-4b0a-bcae-ac84c44fa2d3",
   "metadata": {},
   "outputs": [
    {
     "data": {
      "text/plain": [
       "np.int64(14)"
      ]
     },
     "execution_count": 115,
     "metadata": {},
     "output_type": "execute_result"
    }
   ],
   "source": [
    "b[1, 2]  # row 1, col 2"
   ]
  },
  {
   "cell_type": "code",
   "execution_count": 117,
   "id": "46ec555c-05e8-40af-8e03-0260fe6e5df9",
   "metadata": {},
   "outputs": [
    {
     "data": {
      "text/plain": [
       "array([12, 13, 14, 15, 16, 17, 18, 19, 20, 21, 22, 23])"
      ]
     },
     "execution_count": 117,
     "metadata": {},
     "output_type": "execute_result"
    }
   ],
   "source": [
    "b[1, :]  # row 1, all columns"
   ]
  },
  {
   "cell_type": "code",
   "execution_count": 118,
   "id": "644aff61-0169-46bd-ae1c-6a6493e96a51",
   "metadata": {},
   "outputs": [
    {
     "data": {
      "text/plain": [
       "array([ 1, 13, 25, 37])"
      ]
     },
     "execution_count": 118,
     "metadata": {},
     "output_type": "execute_result"
    }
   ],
   "source": [
    "b[:, 1]  # all rows, column 1"
   ]
  },
  {
   "cell_type": "markdown",
   "id": "4f1457ab-4a19-4015-b905-1cf6929a00eb",
   "metadata": {},
   "source": [
    "对比下面2者的不同"
   ]
  },
  {
   "cell_type": "code",
   "execution_count": 120,
   "id": "3fb6143b-1e4e-4d9d-b3c3-09cde67fc125",
   "metadata": {},
   "outputs": [
    {
     "data": {
      "text/plain": [
       "array([12, 13, 14, 15, 16, 17, 18, 19, 20, 21, 22, 23])"
      ]
     },
     "execution_count": 120,
     "metadata": {},
     "output_type": "execute_result"
    }
   ],
   "source": [
    "b[1, :]"
   ]
  },
  {
   "cell_type": "code",
   "execution_count": 121,
   "id": "8450c531-80bf-4c06-b1cd-4c331dafaf68",
   "metadata": {},
   "outputs": [
    {
     "data": {
      "text/plain": [
       "array([[12, 13, 14, 15, 16, 17, 18, 19, 20, 21, 22, 23]])"
      ]
     },
     "execution_count": 121,
     "metadata": {},
     "output_type": "execute_result"
    }
   ],
   "source": [
    "b[1:2, :]"
   ]
  },
  {
   "cell_type": "markdown",
   "id": "6334eb49-4164-4489-a8cb-e918463b79d6",
   "metadata": {},
   "source": [
    "第一个返回的是(12,)一维数组，第二返回的是(1, 12) 二维数组。"
   ]
  },
  {
   "cell_type": "markdown",
   "id": "6e1d6f9d-de6f-4bf4-8eca-e20ae5773176",
   "metadata": {},
   "source": [
    "## Fancy indexing "
   ]
  },
  {
   "cell_type": "code",
   "execution_count": 124,
   "id": "4eff86d0-32ea-4625-a140-f9893abe1c0e",
   "metadata": {},
   "outputs": [
    {
     "data": {
      "text/plain": [
       "array([[ 2,  3,  4],\n",
       "       [26, 27, 28]])"
      ]
     },
     "execution_count": 124,
     "metadata": {},
     "output_type": "execute_result"
    }
   ],
   "source": [
    "b[(0,2), 2:5]  # rows 0 and 2, columns 2 to 4 (5-1)"
   ]
  },
  {
   "cell_type": "code",
   "execution_count": 126,
   "id": "bb0c87b1-9d5d-4727-a525-ab550a8acaf6",
   "metadata": {},
   "outputs": [
    {
     "data": {
      "text/plain": [
       "array([[11,  2, 11],\n",
       "       [23, 14, 23],\n",
       "       [35, 26, 35],\n",
       "       [47, 38, 47]])"
      ]
     },
     "execution_count": 126,
     "metadata": {},
     "output_type": "execute_result"
    }
   ],
   "source": [
    "b[:, (-1, 2, -1)]  # all rows, columns -1 (last), 2 and -1 (again, and in this order)"
   ]
  },
  {
   "cell_type": "code",
   "execution_count": 127,
   "id": "289571e2-ae56-4492-8b6f-a982acb412e0",
   "metadata": {},
   "outputs": [
    {
     "data": {
      "text/plain": [
       "array([41, 33, 37, 33])"
      ]
     },
     "execution_count": 127,
     "metadata": {},
     "output_type": "execute_result"
    }
   ],
   "source": [
    "b[(-1, 2, -1, 2), (5, 9, 1, 9)]  # returns a 1D array with b[-1, 5], b[2, 9], b[-1, 1] and b[2, 9] (again)"
   ]
  },
  {
   "cell_type": "markdown",
   "id": "cebec080-be06-4d7a-9c57-124cf399d3fd",
   "metadata": {},
   "source": [
    "## 更高维度"
   ]
  },
  {
   "cell_type": "code",
   "execution_count": 130,
   "id": "9ba448d9-b8ab-4adf-94fc-e03f8229c834",
   "metadata": {},
   "outputs": [
    {
     "data": {
      "text/plain": [
       "array([[[ 0,  1,  2,  3,  4,  5],\n",
       "        [ 6,  7,  8,  9, 10, 11]],\n",
       "\n",
       "       [[12, 13, 14, 15, 16, 17],\n",
       "        [18, 19, 20, 21, 22, 23]],\n",
       "\n",
       "       [[24, 25, 26, 27, 28, 29],\n",
       "        [30, 31, 32, 33, 34, 35]],\n",
       "\n",
       "       [[36, 37, 38, 39, 40, 41],\n",
       "        [42, 43, 44, 45, 46, 47]]])"
      ]
     },
     "execution_count": 130,
     "metadata": {},
     "output_type": "execute_result"
    }
   ],
   "source": [
    "c = b.reshape(4,2,6)\n",
    "c"
   ]
  },
  {
   "cell_type": "code",
   "execution_count": 132,
   "id": "e4375d71-494f-4236-802a-940eacc78aba",
   "metadata": {},
   "outputs": [
    {
     "data": {
      "text/plain": [
       "np.int64(34)"
      ]
     },
     "execution_count": 132,
     "metadata": {},
     "output_type": "execute_result"
    }
   ],
   "source": [
    "c[2, 1, 4]  # matrix 2, row 1, col 4"
   ]
  },
  {
   "cell_type": "code",
   "execution_count": 134,
   "id": "9434cbc1-fb8e-46d9-976c-2d4bb88306eb",
   "metadata": {},
   "outputs": [
    {
     "data": {
      "text/plain": [
       "array([27, 33])"
      ]
     },
     "execution_count": 134,
     "metadata": {},
     "output_type": "execute_result"
    }
   ],
   "source": [
    "c[2, :, 3]  # matrix 2, all rows, col 3"
   ]
  },
  {
   "cell_type": "markdown",
   "id": "4659e44d-3aae-4a8d-9819-78fc70b6883c",
   "metadata": {},
   "source": [
    "如果省略某个维度，默认就是这个维度的全部。"
   ]
  },
  {
   "cell_type": "code",
   "execution_count": 135,
   "id": "5c12583a-5d18-447a-b37b-3c31cbcfead8",
   "metadata": {},
   "outputs": [
    {
     "data": {
      "text/plain": [
       "array([30, 31, 32, 33, 34, 35])"
      ]
     },
     "execution_count": 135,
     "metadata": {},
     "output_type": "execute_result"
    }
   ],
   "source": [
    "c[2, 1]  # Return matrix 2, row 1, all columns.  This is equivalent to c[2, 1, :]"
   ]
  },
  {
   "cell_type": "markdown",
   "id": "db883e4a-047d-4ee1-90ad-c6726f3c28e2",
   "metadata": {},
   "source": [
    "## 省略号 ( ... )"
   ]
  },
  {
   "cell_type": "markdown",
   "id": "ab109bfc-8232-4fdf-807e-73725cd9f40b",
   "metadata": {},
   "source": [
    "可以使用`...`来省略剩下的`axes`"
   ]
  },
  {
   "cell_type": "code",
   "execution_count": 136,
   "id": "c546720c-eed7-493e-a499-a992e2357ae2",
   "metadata": {},
   "outputs": [
    {
     "data": {
      "text/plain": [
       "array([[24, 25, 26, 27, 28, 29],\n",
       "       [30, 31, 32, 33, 34, 35]])"
      ]
     },
     "execution_count": 136,
     "metadata": {},
     "output_type": "execute_result"
    }
   ],
   "source": [
    "c[2, ...]  #  matrix 2, all rows, all columns.  This is equivalent to c[2, :, :]"
   ]
  },
  {
   "cell_type": "code",
   "execution_count": 138,
   "id": "28f05211-ee8b-457c-a059-9e243989b403",
   "metadata": {},
   "outputs": [
    {
     "data": {
      "text/plain": [
       "array([30, 31, 32, 33, 34, 35])"
      ]
     },
     "execution_count": 138,
     "metadata": {},
     "output_type": "execute_result"
    }
   ],
   "source": [
    "c[2, 1, ...]  # matrix 2, row 1, all columns.  This is equivalent to c[2, 1, :]"
   ]
  },
  {
   "cell_type": "code",
   "execution_count": 140,
   "id": "8686b4fc-0daf-4d7b-b085-3f636f65fa61",
   "metadata": {},
   "outputs": [
    {
     "data": {
      "text/plain": [
       "array([27, 33])"
      ]
     },
     "execution_count": 140,
     "metadata": {},
     "output_type": "execute_result"
    }
   ],
   "source": [
    "c[2, ..., 3]  # matrix 2, all rows, column 3.  This is equivalent to c[2, :, 3]"
   ]
  },
  {
   "cell_type": "code",
   "execution_count": 142,
   "id": "5c6cb471-1fd3-42dc-97fc-d64cb3d2108e",
   "metadata": {},
   "outputs": [
    {
     "data": {
      "text/plain": [
       "array([[ 3,  9],\n",
       "       [15, 21],\n",
       "       [27, 33],\n",
       "       [39, 45]])"
      ]
     },
     "execution_count": 142,
     "metadata": {},
     "output_type": "execute_result"
    }
   ],
   "source": [
    "c[..., 3]  # all matrices, all rows, column 3.  This is equivalent to c[:, :, 3]"
   ]
  },
  {
   "cell_type": "markdown",
   "id": "72e3de3b-929b-4e4e-afb8-46e809d00c13",
   "metadata": {},
   "source": [
    "## Boolean 索引"
   ]
  },
  {
   "cell_type": "code",
   "execution_count": 145,
   "id": "6ed49904-3cab-4d0c-8372-21ba4f89c87e",
   "metadata": {},
   "outputs": [
    {
     "data": {
      "text/plain": [
       "array([[ 0,  1,  2,  3,  4,  5,  6,  7,  8,  9, 10, 11],\n",
       "       [12, 13, 14, 15, 16, 17, 18, 19, 20, 21, 22, 23],\n",
       "       [24, 25, 26, 27, 28, 29, 30, 31, 32, 33, 34, 35],\n",
       "       [36, 37, 38, 39, 40, 41, 42, 43, 44, 45, 46, 47]])"
      ]
     },
     "execution_count": 145,
     "metadata": {},
     "output_type": "execute_result"
    }
   ],
   "source": [
    "b = np.arange(48).reshape(4, 12)\n",
    "b"
   ]
  },
  {
   "cell_type": "code",
   "execution_count": 147,
   "id": "03eee810-83cb-45fb-b915-a06cd38af554",
   "metadata": {},
   "outputs": [
    {
     "data": {
      "text/plain": [
       "array([[ 0,  1,  2,  3,  4,  5,  6,  7,  8,  9, 10, 11],\n",
       "       [24, 25, 26, 27, 28, 29, 30, 31, 32, 33, 34, 35]])"
      ]
     },
     "execution_count": 147,
     "metadata": {},
     "output_type": "execute_result"
    }
   ],
   "source": [
    "rows_on = np.array([True, False, True, False])\n",
    "b[rows_on, :]  # Rows 0 and 2, all columns. Equivalent to b[(0, 2), :]"
   ]
  },
  {
   "cell_type": "code",
   "execution_count": 148,
   "id": "947f0360-499a-4c0c-8506-ce2e6aeede40",
   "metadata": {},
   "outputs": [
    {
     "data": {
      "text/plain": [
       "array([[ 1,  4,  7, 10],\n",
       "       [13, 16, 19, 22],\n",
       "       [25, 28, 31, 34],\n",
       "       [37, 40, 43, 46]])"
      ]
     },
     "execution_count": 148,
     "metadata": {},
     "output_type": "execute_result"
    }
   ],
   "source": [
    "cols_on = np.array([False, True, False] * 4)\n",
    "b[:, cols_on]  # All rows, columns 1, 4, 7 and 10"
   ]
  },
  {
   "cell_type": "markdown",
   "id": "a043afab-122e-4b55-8a43-4b0ce60d11a5",
   "metadata": {},
   "source": [
    "## np.ix_"
   ]
  },
  {
   "cell_type": "markdown",
   "id": "b17bec6a-aad5-494c-8929-029d5d5a6d6d",
   "metadata": {},
   "source": [
    "不能在多个`axes`上使用Boolean索引。这时就需要使用`np.ix_`。"
   ]
  },
  {
   "cell_type": "code",
   "execution_count": 150,
   "id": "b23dddb9-6d7e-433d-954d-d4b502754eda",
   "metadata": {},
   "outputs": [
    {
     "data": {
      "text/plain": [
       "array([[ 1,  4,  7, 10],\n",
       "       [25, 28, 31, 34]])"
      ]
     },
     "execution_count": 150,
     "metadata": {},
     "output_type": "execute_result"
    }
   ],
   "source": [
    "b[np.ix_(rows_on, cols_on)]"
   ]
  },
  {
   "cell_type": "code",
   "execution_count": 152,
   "id": "d59ac6ce-8744-4ff3-8157-fe0fe9ef11f4",
   "metadata": {},
   "outputs": [
    {
     "data": {
      "text/plain": [
       "(array([[0],\n",
       "        [2]]),\n",
       " array([[ 1,  4,  7, 10]]))"
      ]
     },
     "execution_count": 152,
     "metadata": {},
     "output_type": "execute_result"
    }
   ],
   "source": [
    "np.ix_(rows_on, cols_on)"
   ]
  },
  {
   "cell_type": "markdown",
   "id": "2674f545-c004-4604-9645-de0f4743fab6",
   "metadata": {},
   "source": [
    "如果使用与`ndarray`具有相同形状的布尔数组，那么您将返回一个一维数组"
   ]
  },
  {
   "cell_type": "code",
   "execution_count": 153,
   "id": "71f4d041-bf78-4df9-8e62-3088d705b067",
   "metadata": {},
   "outputs": [
    {
     "data": {
      "text/plain": [
       "array([ 1,  4,  7, 10, 13, 16, 19, 22, 25, 28, 31, 34, 37, 40, 43, 46])"
      ]
     },
     "execution_count": 153,
     "metadata": {},
     "output_type": "execute_result"
    }
   ],
   "source": [
    "b[b % 3 == 1]"
   ]
  },
  {
   "cell_type": "markdown",
   "id": "284bf8cc-0fa1-4b42-b0d3-4f0524109a38",
   "metadata": {},
   "source": [
    "# 迭代"
   ]
  },
  {
   "cell_type": "code",
   "execution_count": 156,
   "id": "ac36cbef-66b9-40c9-9834-44b5fb9fd134",
   "metadata": {},
   "outputs": [
    {
     "data": {
      "text/plain": [
       "array([[[ 0,  1,  2,  3],\n",
       "        [ 4,  5,  6,  7],\n",
       "        [ 8,  9, 10, 11]],\n",
       "\n",
       "       [[12, 13, 14, 15],\n",
       "        [16, 17, 18, 19],\n",
       "        [20, 21, 22, 23]]])"
      ]
     },
     "execution_count": 156,
     "metadata": {},
     "output_type": "execute_result"
    }
   ],
   "source": [
    "c = np.arange(24).reshape(2, 3, 4)  # A 3D array (composed of two 3x4 matrices)\n",
    "c"
   ]
  },
  {
   "cell_type": "code",
   "execution_count": 158,
   "id": "9fce6936-52fb-4635-815b-82979cf3dd70",
   "metadata": {},
   "outputs": [
    {
     "name": "stdout",
     "output_type": "stream",
     "text": [
      "Item:\n",
      "[[ 0  1  2  3]\n",
      " [ 4  5  6  7]\n",
      " [ 8  9 10 11]]\n",
      "Item:\n",
      "[[12 13 14 15]\n",
      " [16 17 18 19]\n",
      " [20 21 22 23]]\n"
     ]
    }
   ],
   "source": [
    "for m in c:\n",
    "    print(\"Item:\")\n",
    "    print(m)"
   ]
  },
  {
   "cell_type": "code",
   "execution_count": 159,
   "id": "3e2fa02d-33d8-4fc8-b739-07cbfb3f3a07",
   "metadata": {},
   "outputs": [
    {
     "name": "stdout",
     "output_type": "stream",
     "text": [
      "Item:\n",
      "[[ 0  1  2  3]\n",
      " [ 4  5  6  7]\n",
      " [ 8  9 10 11]]\n",
      "Item:\n",
      "[[12 13 14 15]\n",
      " [16 17 18 19]\n",
      " [20 21 22 23]]\n"
     ]
    }
   ],
   "source": [
    "for i in range(len(c)):  # Note that len(c) == c.shape[0]\n",
    "    print(\"Item:\")\n",
    "    print(c[i])"
   ]
  },
  {
   "cell_type": "markdown",
   "id": "a7eae654-db4a-4105-9ce3-9f03c0aaf4bc",
   "metadata": {},
   "source": [
    "如果要迭代所有元素，可以迭代`flat`属性。"
   ]
  },
  {
   "cell_type": "code",
   "execution_count": 161,
   "id": "5b46a7dd-7b29-432b-9f46-e5c21b924a49",
   "metadata": {},
   "outputs": [
    {
     "name": "stdout",
     "output_type": "stream",
     "text": [
      "Item: 0\n",
      "Item: 1\n",
      "Item: 2\n",
      "Item: 3\n",
      "Item: 4\n",
      "Item: 5\n",
      "Item: 6\n",
      "Item: 7\n",
      "Item: 8\n",
      "Item: 9\n",
      "Item: 10\n",
      "Item: 11\n",
      "Item: 12\n",
      "Item: 13\n",
      "Item: 14\n",
      "Item: 15\n",
      "Item: 16\n",
      "Item: 17\n",
      "Item: 18\n",
      "Item: 19\n",
      "Item: 20\n",
      "Item: 21\n",
      "Item: 22\n",
      "Item: 23\n"
     ]
    }
   ],
   "source": [
    "for i in c.flat:\n",
    "    print(\"Item:\", i)"
   ]
  },
  {
   "cell_type": "markdown",
   "id": "ecade536-d395-4e60-8d86-b3958cf70ca8",
   "metadata": {},
   "source": [
    "# Stacking数组"
   ]
  },
  {
   "cell_type": "code",
   "execution_count": 164,
   "id": "1eb86766-78bd-485d-9b2b-10ea4b722010",
   "metadata": {},
   "outputs": [
    {
     "data": {
      "text/plain": [
       "array([[1., 1., 1., 1.],\n",
       "       [1., 1., 1., 1.],\n",
       "       [1., 1., 1., 1.]])"
      ]
     },
     "execution_count": 164,
     "metadata": {},
     "output_type": "execute_result"
    }
   ],
   "source": [
    "q1 = np.full((3,4), 1.0)\n",
    "q1"
   ]
  },
  {
   "cell_type": "code",
   "execution_count": 165,
   "id": "7ad9996b-e334-474d-97f3-8b139507a5cf",
   "metadata": {},
   "outputs": [
    {
     "data": {
      "text/plain": [
       "array([[2., 2., 2., 2.],\n",
       "       [2., 2., 2., 2.],\n",
       "       [2., 2., 2., 2.],\n",
       "       [2., 2., 2., 2.]])"
      ]
     },
     "execution_count": 165,
     "metadata": {},
     "output_type": "execute_result"
    }
   ],
   "source": [
    "q2 = np.full((4,4), 2.0)\n",
    "q2"
   ]
  },
  {
   "cell_type": "code",
   "execution_count": 166,
   "id": "bb44b7e1-eff4-4077-806f-f11cb73481f6",
   "metadata": {},
   "outputs": [
    {
     "data": {
      "text/plain": [
       "array([[3., 3., 3., 3.],\n",
       "       [3., 3., 3., 3.],\n",
       "       [3., 3., 3., 3.]])"
      ]
     },
     "execution_count": 166,
     "metadata": {},
     "output_type": "execute_result"
    }
   ],
   "source": [
    "q3 = np.full((3,4), 3.0)\n",
    "q3"
   ]
  },
  {
   "cell_type": "markdown",
   "id": "9f0dc238-1195-49fb-862a-6ad7955e1f97",
   "metadata": {},
   "source": [
    "## vstack"
   ]
  },
  {
   "cell_type": "markdown",
   "id": "be5ecedd-9a03-426a-84a9-7f33032b35a8",
   "metadata": {},
   "source": [
    "vertically 堆叠"
   ]
  },
  {
   "cell_type": "code",
   "execution_count": 168,
   "id": "0ddd137a-2eb1-40c4-bdad-b26186e829a1",
   "metadata": {},
   "outputs": [
    {
     "data": {
      "text/plain": [
       "array([[1., 1., 1., 1.],\n",
       "       [1., 1., 1., 1.],\n",
       "       [1., 1., 1., 1.],\n",
       "       [2., 2., 2., 2.],\n",
       "       [2., 2., 2., 2.],\n",
       "       [2., 2., 2., 2.],\n",
       "       [2., 2., 2., 2.],\n",
       "       [3., 3., 3., 3.],\n",
       "       [3., 3., 3., 3.],\n",
       "       [3., 3., 3., 3.]])"
      ]
     },
     "execution_count": 168,
     "metadata": {},
     "output_type": "execute_result"
    }
   ],
   "source": [
    "q4 = np.vstack((q1, q2, q3))\n",
    "q4"
   ]
  },
  {
   "cell_type": "code",
   "execution_count": 170,
   "id": "654a9067-ee65-45f7-af31-d11c4087e80a",
   "metadata": {},
   "outputs": [
    {
     "data": {
      "text/plain": [
       "(10, 4)"
      ]
     },
     "execution_count": 170,
     "metadata": {},
     "output_type": "execute_result"
    }
   ],
   "source": [
    "q4.shape"
   ]
  },
  {
   "cell_type": "markdown",
   "id": "5c9c5f21-3f95-4729-b8e2-c403f7a74054",
   "metadata": {},
   "source": [
    "## hstack"
   ]
  },
  {
   "cell_type": "markdown",
   "id": "0fd47bc9-24b9-4898-a8e0-0a96113ba724",
   "metadata": {},
   "source": [
    "horizontally 堆叠"
   ]
  },
  {
   "cell_type": "code",
   "execution_count": 172,
   "id": "66bac3d4-17ed-48c9-97e5-2989647a9adb",
   "metadata": {},
   "outputs": [
    {
     "data": {
      "text/plain": [
       "array([[1., 1., 1., 1., 3., 3., 3., 3.],\n",
       "       [1., 1., 1., 1., 3., 3., 3., 3.],\n",
       "       [1., 1., 1., 1., 3., 3., 3., 3.]])"
      ]
     },
     "execution_count": 172,
     "metadata": {},
     "output_type": "execute_result"
    }
   ],
   "source": [
    "q5 = np.hstack((q1, q3))\n",
    "q5"
   ]
  },
  {
   "cell_type": "code",
   "execution_count": 174,
   "id": "1a4d8eae-af3b-433a-bfc3-81b43ede01c8",
   "metadata": {},
   "outputs": [
    {
     "data": {
      "text/plain": [
       "(3, 8)"
      ]
     },
     "execution_count": 174,
     "metadata": {},
     "output_type": "execute_result"
    }
   ],
   "source": [
    "q5.shape"
   ]
  },
  {
   "cell_type": "markdown",
   "id": "c848db73-6aa2-4d54-939b-214f6b686bdf",
   "metadata": {},
   "source": [
    "It is possible because q1 and q3 both have 3 rows. But since q2 has 4 rows, it cannot be stacked horizontally with q1 and q3:"
   ]
  },
  {
   "cell_type": "code",
   "execution_count": 176,
   "id": "2180b2ff-e337-4343-8774-31ac9096660e",
   "metadata": {},
   "outputs": [
    {
     "name": "stdout",
     "output_type": "stream",
     "text": [
      "all the input array dimensions except for the concatenation axis must match exactly, but along dimension 0, the array at index 0 has size 3 and the array at index 1 has size 4\n"
     ]
    }
   ],
   "source": [
    "try:\n",
    "    q5 = np.hstack((q1, q2, q3))\n",
    "except ValueError as e:\n",
    "    print(e)"
   ]
  },
  {
   "cell_type": "markdown",
   "id": "ee30d84a-f143-4a5a-8ac6-df0390b2c293",
   "metadata": {},
   "source": [
    "## concatenate"
   ]
  },
  {
   "cell_type": "markdown",
   "id": "049a183e-56b8-4abb-8dd3-bf685ceeaf47",
   "metadata": {},
   "source": [
    "concatenate函数沿任何给定的现有轴堆叠数组。"
   ]
  },
  {
   "cell_type": "code",
   "execution_count": 178,
   "id": "88749781-f07b-4c48-a6bc-4f2af6c41257",
   "metadata": {},
   "outputs": [
    {
     "data": {
      "text/plain": [
       "array([[1., 1., 1., 1.],\n",
       "       [1., 1., 1., 1.],\n",
       "       [1., 1., 1., 1.],\n",
       "       [2., 2., 2., 2.],\n",
       "       [2., 2., 2., 2.],\n",
       "       [2., 2., 2., 2.],\n",
       "       [2., 2., 2., 2.],\n",
       "       [3., 3., 3., 3.],\n",
       "       [3., 3., 3., 3.],\n",
       "       [3., 3., 3., 3.]])"
      ]
     },
     "execution_count": 178,
     "metadata": {},
     "output_type": "execute_result"
    }
   ],
   "source": [
    "q7 = np.concatenate((q1, q2, q3), axis=0)  # Equivalent to vstack\n",
    "q7"
   ]
  },
  {
   "cell_type": "code",
   "execution_count": 180,
   "id": "cd8f27bb-73ea-436b-9e70-be33939e45a3",
   "metadata": {},
   "outputs": [
    {
     "data": {
      "text/plain": [
       "(10, 4)"
      ]
     },
     "execution_count": 180,
     "metadata": {},
     "output_type": "execute_result"
    }
   ],
   "source": [
    "q7.shape"
   ]
  },
  {
   "cell_type": "markdown",
   "id": "f4ee3d18-dc28-4b35-8a02-70c0c0ba5c87",
   "metadata": {},
   "source": [
    "As you might guess, hstack is equivalent to calling concatenate with axis=1."
   ]
  },
  {
   "cell_type": "markdown",
   "id": "98951ccc-5d46-47ff-8c91-91baf165382b",
   "metadata": {},
   "source": [
    "## stack"
   ]
  },
  {
   "cell_type": "markdown",
   "id": "657a6728-f3a5-4fd8-bb51-ff563a58af33",
   "metadata": {},
   "source": [
    "创建新的维度来堆叠数组"
   ]
  },
  {
   "cell_type": "code",
   "execution_count": 182,
   "id": "c5002e66-8b88-4bd3-85c9-dea015794686",
   "metadata": {},
   "outputs": [
    {
     "data": {
      "text/plain": [
       "array([[[1., 1., 1., 1.],\n",
       "        [1., 1., 1., 1.],\n",
       "        [1., 1., 1., 1.]],\n",
       "\n",
       "       [[3., 3., 3., 3.],\n",
       "        [3., 3., 3., 3.],\n",
       "        [3., 3., 3., 3.]]])"
      ]
     },
     "execution_count": 182,
     "metadata": {},
     "output_type": "execute_result"
    }
   ],
   "source": [
    "q8 = np.stack((q1, q3))\n",
    "q8"
   ]
  },
  {
   "cell_type": "code",
   "execution_count": 184,
   "id": "e01356dd-c033-4a5d-a293-5f698ce194e9",
   "metadata": {},
   "outputs": [
    {
     "data": {
      "text/plain": [
       "(2, 3, 4)"
      ]
     },
     "execution_count": 184,
     "metadata": {},
     "output_type": "execute_result"
    }
   ],
   "source": [
    "q8.shape"
   ]
  },
  {
   "cell_type": "markdown",
   "id": "51e18dfa-8f8f-48d8-a874-9c167e5b6bb9",
   "metadata": {},
   "source": [
    "# Splitting arrays"
   ]
  },
  {
   "cell_type": "markdown",
   "id": "07c568f4-b28d-4bb9-b604-ede17c10b048",
   "metadata": {
    "jp-MarkdownHeadingCollapsed": true
   },
   "source": [
    "## vsplit"
   ]
  },
  {
   "cell_type": "code",
   "execution_count": 186,
   "id": "9c3a5cd8-aed0-40f4-ab7d-cec44fe54377",
   "metadata": {},
   "outputs": [
    {
     "data": {
      "text/plain": [
       "array([[ 0,  1,  2,  3],\n",
       "       [ 4,  5,  6,  7],\n",
       "       [ 8,  9, 10, 11],\n",
       "       [12, 13, 14, 15],\n",
       "       [16, 17, 18, 19],\n",
       "       [20, 21, 22, 23]])"
      ]
     },
     "execution_count": 186,
     "metadata": {},
     "output_type": "execute_result"
    }
   ],
   "source": [
    "r = np.arange(24).reshape(6,4)\n",
    "r"
   ]
  },
  {
   "cell_type": "code",
   "execution_count": 188,
   "id": "23f6dd63-ddba-493f-a289-20bc1e9efcb6",
   "metadata": {},
   "outputs": [
    {
     "data": {
      "text/plain": [
       "array([[0, 1, 2, 3],\n",
       "       [4, 5, 6, 7]])"
      ]
     },
     "execution_count": 188,
     "metadata": {},
     "output_type": "execute_result"
    }
   ],
   "source": [
    "r1, r2, r3 = np.vsplit(r, 3)\n",
    "r1"
   ]
  },
  {
   "cell_type": "code",
   "execution_count": 190,
   "id": "0239462c-4a58-42d9-8bf2-b6df565e2e06",
   "metadata": {},
   "outputs": [
    {
     "data": {
      "text/plain": [
       "array([[ 8,  9, 10, 11],\n",
       "       [12, 13, 14, 15]])"
      ]
     },
     "execution_count": 190,
     "metadata": {},
     "output_type": "execute_result"
    }
   ],
   "source": [
    "r2"
   ]
  },
  {
   "cell_type": "code",
   "execution_count": 192,
   "id": "b8e56ddf-501b-4acd-b97e-9b1f73a43585",
   "metadata": {},
   "outputs": [
    {
     "data": {
      "text/plain": [
       "array([[16, 17, 18, 19],\n",
       "       [20, 21, 22, 23]])"
      ]
     },
     "execution_count": 192,
     "metadata": {},
     "output_type": "execute_result"
    }
   ],
   "source": [
    "r3"
   ]
  },
  {
   "cell_type": "markdown",
   "id": "e3e8ff96-98ad-46d1-bb0f-6b7f40bf11d1",
   "metadata": {},
   "source": [
    "## hsplit"
   ]
  },
  {
   "cell_type": "code",
   "execution_count": 195,
   "id": "b10c0011-b379-4454-8906-74f667479d13",
   "metadata": {},
   "outputs": [
    {
     "data": {
      "text/plain": [
       "array([[ 0,  1],\n",
       "       [ 4,  5],\n",
       "       [ 8,  9],\n",
       "       [12, 13],\n",
       "       [16, 17],\n",
       "       [20, 21]])"
      ]
     },
     "execution_count": 195,
     "metadata": {},
     "output_type": "execute_result"
    }
   ],
   "source": [
    "r4, r5 = np.hsplit(r, 2)\n",
    "r4"
   ]
  },
  {
   "cell_type": "code",
   "execution_count": 197,
   "id": "0e939631-2d6e-49b4-81c8-70aba3aef92f",
   "metadata": {},
   "outputs": [
    {
     "data": {
      "text/plain": [
       "array([[ 2,  3],\n",
       "       [ 6,  7],\n",
       "       [10, 11],\n",
       "       [14, 15],\n",
       "       [18, 19],\n",
       "       [22, 23]])"
      ]
     },
     "execution_count": 197,
     "metadata": {},
     "output_type": "execute_result"
    }
   ],
   "source": [
    "r5"
   ]
  },
  {
   "cell_type": "markdown",
   "id": "f76718ac-a062-4219-aaa5-c6ae10aed23b",
   "metadata": {},
   "source": [
    "# 转置(Transposing)数组"
   ]
  },
  {
   "cell_type": "code",
   "execution_count": 200,
   "id": "20bcb4be-6931-4e82-93ae-442e2928a981",
   "metadata": {},
   "outputs": [
    {
     "data": {
      "text/plain": [
       "array([[[ 0,  1,  2],\n",
       "        [ 3,  4,  5]],\n",
       "\n",
       "       [[ 6,  7,  8],\n",
       "        [ 9, 10, 11]],\n",
       "\n",
       "       [[12, 13, 14],\n",
       "        [15, 16, 17]],\n",
       "\n",
       "       [[18, 19, 20],\n",
       "        [21, 22, 23]]])"
      ]
     },
     "execution_count": 200,
     "metadata": {},
     "output_type": "execute_result"
    }
   ],
   "source": [
    "t = np.arange(24).reshape(4,2,3)\n",
    "t"
   ]
  },
  {
   "cell_type": "code",
   "execution_count": 202,
   "id": "a549a79a-a476-403c-afa0-6170a1e81ba5",
   "metadata": {},
   "outputs": [
    {
     "data": {
      "text/plain": [
       "array([[[ 0,  6, 12, 18],\n",
       "        [ 1,  7, 13, 19],\n",
       "        [ 2,  8, 14, 20]],\n",
       "\n",
       "       [[ 3,  9, 15, 21],\n",
       "        [ 4, 10, 16, 22],\n",
       "        [ 5, 11, 17, 23]]])"
      ]
     },
     "execution_count": 202,
     "metadata": {},
     "output_type": "execute_result"
    }
   ],
   "source": [
    "t1 = t.transpose((1,2,0))\n",
    "t1"
   ]
  },
  {
   "cell_type": "code",
   "execution_count": 204,
   "id": "abe038b5-54ed-4c8f-942e-c43143a79567",
   "metadata": {},
   "outputs": [
    {
     "data": {
      "text/plain": [
       "(2, 3, 4)"
      ]
     },
     "execution_count": 204,
     "metadata": {},
     "output_type": "execute_result"
    }
   ],
   "source": [
    "t1.shape"
   ]
  },
  {
   "cell_type": "code",
   "execution_count": 206,
   "id": "c45bf5fd-5b71-4015-80e0-d112aae6fde2",
   "metadata": {},
   "outputs": [
    {
     "data": {
      "text/plain": [
       "array([[[ 0,  6, 12, 18],\n",
       "        [ 3,  9, 15, 21]],\n",
       "\n",
       "       [[ 1,  7, 13, 19],\n",
       "        [ 4, 10, 16, 22]],\n",
       "\n",
       "       [[ 2,  8, 14, 20],\n",
       "        [ 5, 11, 17, 23]]])"
      ]
     },
     "execution_count": 206,
     "metadata": {},
     "output_type": "execute_result"
    }
   ],
   "source": [
    "t2 = t.transpose()  # equivalent to t.transpose((2, 1, 0))\n",
    "t2"
   ]
  },
  {
   "cell_type": "code",
   "execution_count": 208,
   "id": "dfb25ee4-2c2b-4e19-95dc-b04f78eabc20",
   "metadata": {},
   "outputs": [
    {
     "data": {
      "text/plain": [
       "(3, 2, 4)"
      ]
     },
     "execution_count": 208,
     "metadata": {},
     "output_type": "execute_result"
    }
   ],
   "source": [
    "t2.shape"
   ]
  },
  {
   "cell_type": "markdown",
   "id": "30ff7f61-fa87-4217-bd2a-40c39b389afd",
   "metadata": {},
   "source": [
    "## swapaxes"
   ]
  },
  {
   "cell_type": "code",
   "execution_count": 210,
   "id": "a130f761-2ab6-4198-aaf9-82d97fd8c89f",
   "metadata": {},
   "outputs": [
    {
     "data": {
      "text/plain": [
       "array([[[ 0,  1,  2],\n",
       "        [ 6,  7,  8],\n",
       "        [12, 13, 14],\n",
       "        [18, 19, 20]],\n",
       "\n",
       "       [[ 3,  4,  5],\n",
       "        [ 9, 10, 11],\n",
       "        [15, 16, 17],\n",
       "        [21, 22, 23]]])"
      ]
     },
     "execution_count": 210,
     "metadata": {},
     "output_type": "execute_result"
    }
   ],
   "source": [
    "t3 = t.swapaxes(0,1)  # equivalent to t.transpose((1, 0, 2))\n",
    "t3"
   ]
  },
  {
   "cell_type": "code",
   "execution_count": 211,
   "id": "d0cefac7-aead-42f5-95a5-88cbb4de15f3",
   "metadata": {},
   "outputs": [
    {
     "data": {
      "text/plain": [
       "(2, 4, 3)"
      ]
     },
     "execution_count": 211,
     "metadata": {},
     "output_type": "execute_result"
    }
   ],
   "source": [
    "t3.shape"
   ]
  },
  {
   "cell_type": "markdown",
   "id": "483d0dc2-2d38-4abe-b0aa-32ede2f0c207",
   "metadata": {},
   "source": [
    "# 线性代数"
   ]
  },
  {
   "cell_type": "markdown",
   "id": "bdfc98bb-0588-4e3d-ae39-c5f95fbf31fe",
   "metadata": {},
   "source": [
    "## 矩阵转置\n",
    "\n",
    "属性T和transpose()效果是相同的"
   ]
  },
  {
   "cell_type": "code",
   "execution_count": 215,
   "id": "2cba7794-9644-41cd-9d4e-3c814100a9ce",
   "metadata": {},
   "outputs": [
    {
     "data": {
      "text/plain": [
       "array([[0, 1, 2, 3, 4],\n",
       "       [5, 6, 7, 8, 9]])"
      ]
     },
     "execution_count": 215,
     "metadata": {},
     "output_type": "execute_result"
    }
   ],
   "source": [
    "m1 = np.arange(10).reshape(2,5)\n",
    "m1"
   ]
  },
  {
   "cell_type": "code",
   "execution_count": 217,
   "id": "8fb49cdf-343f-4b63-b72f-68a92a754482",
   "metadata": {},
   "outputs": [
    {
     "data": {
      "text/plain": [
       "array([[0, 5],\n",
       "       [1, 6],\n",
       "       [2, 7],\n",
       "       [3, 8],\n",
       "       [4, 9]])"
      ]
     },
     "execution_count": 217,
     "metadata": {},
     "output_type": "execute_result"
    }
   ],
   "source": [
    "m1.T"
   ]
  },
  {
   "cell_type": "markdown",
   "id": "8377f3f9-1675-4e28-a373-164cc9fa7bdd",
   "metadata": {},
   "source": [
    "`T`在rank <= 1时没有影响"
   ]
  },
  {
   "cell_type": "code",
   "execution_count": 219,
   "id": "d0f043d0-d786-4c5b-be74-bda7a9a1cf4a",
   "metadata": {},
   "outputs": [
    {
     "data": {
      "text/plain": [
       "array([0, 1, 2, 3, 4])"
      ]
     },
     "execution_count": 219,
     "metadata": {},
     "output_type": "execute_result"
    }
   ],
   "source": [
    "m2 = np.arange(5)\n",
    "m2"
   ]
  },
  {
   "cell_type": "code",
   "execution_count": 221,
   "id": "fca203d1-046b-489d-9e02-9cc10cd6b848",
   "metadata": {},
   "outputs": [
    {
     "data": {
      "text/plain": [
       "array([0, 1, 2, 3, 4])"
      ]
     },
     "execution_count": 221,
     "metadata": {},
     "output_type": "execute_result"
    }
   ],
   "source": [
    "m2.T"
   ]
  },
  {
   "cell_type": "code",
   "execution_count": 222,
   "id": "aef2bf35-8f36-465b-aa2a-c0263577eeb2",
   "metadata": {},
   "outputs": [
    {
     "data": {
      "text/plain": [
       "array([[0, 1, 2, 3, 4]])"
      ]
     },
     "execution_count": 222,
     "metadata": {},
     "output_type": "execute_result"
    }
   ],
   "source": [
    "m2r = m2.reshape(1,5)\n",
    "m2r"
   ]
  },
  {
   "cell_type": "code",
   "execution_count": 223,
   "id": "5b548ad8-0c2c-4229-a0f8-d0a9345d356d",
   "metadata": {},
   "outputs": [
    {
     "data": {
      "text/plain": [
       "array([[0],\n",
       "       [1],\n",
       "       [2],\n",
       "       [3],\n",
       "       [4]])"
      ]
     },
     "execution_count": 223,
     "metadata": {},
     "output_type": "execute_result"
    }
   ],
   "source": [
    "m2r.T"
   ]
  },
  {
   "cell_type": "markdown",
   "id": "a17ac7e1-c7b0-4344-8a00-006fc3661c20",
   "metadata": {},
   "source": [
    "## 矩阵乘法"
   ]
  },
  {
   "cell_type": "code",
   "execution_count": 224,
   "id": "cc1afe30-44ed-4d58-86c4-b1961c2cf2d2",
   "metadata": {},
   "outputs": [
    {
     "data": {
      "text/plain": [
       "array([[0, 1, 2, 3, 4],\n",
       "       [5, 6, 7, 8, 9]])"
      ]
     },
     "execution_count": 224,
     "metadata": {},
     "output_type": "execute_result"
    }
   ],
   "source": [
    "n1 = np.arange(10).reshape(2, 5)\n",
    "n1"
   ]
  },
  {
   "cell_type": "code",
   "execution_count": 225,
   "id": "671018a3-add2-4b62-88d9-b9237c743c62",
   "metadata": {},
   "outputs": [
    {
     "data": {
      "text/plain": [
       "array([[ 0,  1,  2],\n",
       "       [ 3,  4,  5],\n",
       "       [ 6,  7,  8],\n",
       "       [ 9, 10, 11],\n",
       "       [12, 13, 14]])"
      ]
     },
     "execution_count": 225,
     "metadata": {},
     "output_type": "execute_result"
    }
   ],
   "source": [
    "n2 = np.arange(15).reshape(5,3)\n",
    "n2"
   ]
  },
  {
   "cell_type": "code",
   "execution_count": 227,
   "id": "565a40f4-8f34-45df-a1b4-2241435e00a7",
   "metadata": {},
   "outputs": [
    {
     "data": {
      "text/plain": [
       "array([[ 90, 100, 110],\n",
       "       [240, 275, 310]])"
      ]
     },
     "execution_count": 227,
     "metadata": {},
     "output_type": "execute_result"
    }
   ],
   "source": [
    "n1.dot(n2)"
   ]
  },
  {
   "cell_type": "markdown",
   "id": "c1e88ea8-47bd-4b35-a26f-289fade068c3",
   "metadata": {},
   "source": [
    "## 矩阵逆和伪逆"
   ]
  },
  {
   "cell_type": "code",
   "execution_count": 229,
   "id": "90c014bf-42cc-4a45-bc0b-5b0d8c43b3f6",
   "metadata": {},
   "outputs": [
    {
     "data": {
      "text/plain": [
       "array([[ 1,  2,  3],\n",
       "       [ 5,  7, 11],\n",
       "       [21, 29, 31]])"
      ]
     },
     "execution_count": 229,
     "metadata": {},
     "output_type": "execute_result"
    }
   ],
   "source": [
    "import numpy.linalg as linalg\n",
    "\n",
    "m3 = np.array([[1,2,3],[5,7,11],[21,29,31]])\n",
    "m3"
   ]
  },
  {
   "cell_type": "code",
   "execution_count": 231,
   "id": "e2686525-c2a1-42d5-ac72-dbd682f5d75a",
   "metadata": {},
   "outputs": [
    {
     "data": {
      "text/plain": [
       "array([[-2.31818182,  0.56818182,  0.02272727],\n",
       "       [ 1.72727273, -0.72727273,  0.09090909],\n",
       "       [-0.04545455,  0.29545455, -0.06818182]])"
      ]
     },
     "execution_count": 231,
     "metadata": {},
     "output_type": "execute_result"
    }
   ],
   "source": [
    "linalg.inv(m3)"
   ]
  },
  {
   "cell_type": "code",
   "execution_count": 233,
   "id": "70d7e9de-7939-40d7-b3c1-d3bd93b3b03e",
   "metadata": {},
   "outputs": [
    {
     "data": {
      "text/plain": [
       "array([[-2.31818182,  0.56818182,  0.02272727],\n",
       "       [ 1.72727273, -0.72727273,  0.09090909],\n",
       "       [-0.04545455,  0.29545455, -0.06818182]])"
      ]
     },
     "execution_count": 233,
     "metadata": {},
     "output_type": "execute_result"
    }
   ],
   "source": [
    "linalg.pinv(m3)"
   ]
  },
  {
   "cell_type": "markdown",
   "id": "c293edd1-38f2-4c94-b9db-a22bd1128403",
   "metadata": {},
   "source": [
    "## 单位矩阵"
   ]
  },
  {
   "cell_type": "code",
   "execution_count": 234,
   "id": "71415655-9c02-4294-977d-607873b5d711",
   "metadata": {},
   "outputs": [
    {
     "data": {
      "text/plain": [
       "array([[ 1.00000000e+00, -1.11022302e-16,  1.38777878e-17],\n",
       "       [-6.24500451e-16,  1.00000000e+00, -9.71445147e-17],\n",
       "       [-3.46944695e-16, -2.33146835e-15,  1.00000000e+00]])"
      ]
     },
     "execution_count": 234,
     "metadata": {},
     "output_type": "execute_result"
    }
   ],
   "source": [
    "m3.dot(linalg.inv(m3))"
   ]
  },
  {
   "cell_type": "code",
   "execution_count": 236,
   "id": "94dd6ceb-aeea-4650-842c-69036151cf39",
   "metadata": {},
   "outputs": [
    {
     "data": {
      "text/plain": [
       "array([[ 1.00000000e+00, -1.11022302e-16,  1.38777878e-17],\n",
       "       [-6.24500451e-16,  1.00000000e+00, -9.71445147e-17],\n",
       "       [-3.46944695e-16, -2.33146835e-15,  1.00000000e+00]])"
      ]
     },
     "execution_count": 236,
     "metadata": {},
     "output_type": "execute_result"
    }
   ],
   "source": [
    "m3.dot(linalg.inv(m3))"
   ]
  },
  {
   "cell_type": "code",
   "execution_count": 237,
   "id": "633916fa-c104-4d33-8f64-cad2363e24ab",
   "metadata": {},
   "outputs": [
    {
     "data": {
      "text/plain": [
       "array([[1., 0., 0.],\n",
       "       [0., 1., 0.],\n",
       "       [0., 0., 1.]])"
      ]
     },
     "execution_count": 237,
     "metadata": {},
     "output_type": "execute_result"
    }
   ],
   "source": [
    "np.eye(3)"
   ]
  },
  {
   "cell_type": "code",
   "execution_count": null,
   "id": "04d32f4d-550c-4a43-a646-2c0cfaa99652",
   "metadata": {},
   "outputs": [],
   "source": []
  }
 ],
 "metadata": {
  "kernelspec": {
   "display_name": "Python 3 (ipykernel)",
   "language": "python",
   "name": "python3"
  },
  "language_info": {
   "codemirror_mode": {
    "name": "ipython",
    "version": 3
   },
   "file_extension": ".py",
   "mimetype": "text/x-python",
   "name": "python",
   "nbconvert_exporter": "python",
   "pygments_lexer": "ipython3",
   "version": "3.12.6"
  }
 },
 "nbformat": 4,
 "nbformat_minor": 5
}
