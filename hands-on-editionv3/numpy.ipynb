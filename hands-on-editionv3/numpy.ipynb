{
 "cells": [
  {
   "cell_type": "markdown",
   "id": "678bbc3f-9ed1-48d8-a3f4-6f5a76ff1248",
   "metadata": {},
   "source": [
    "# Create Array"
   ]
  },
  {
   "cell_type": "markdown",
   "id": "1eca92c5-c6e0-4307-839b-41f18bf325c0",
   "metadata": {},
   "source": [
    "导入numpy包"
   ]
  },
  {
   "cell_type": "code",
   "execution_count": 1,
   "id": "9581bbbf-701b-4eb2-85b6-382180b2c1c0",
   "metadata": {},
   "outputs": [],
   "source": [
    "import numpy as np"
   ]
  },
  {
   "cell_type": "markdown",
   "id": "7cbc89f1-36d2-4f73-9389-5d0ff1a194e8",
   "metadata": {},
   "source": [
    "## np.zeros"
   ]
  },
  {
   "cell_type": "markdown",
   "id": "cfe5033a-d565-462d-b2a9-b5b8297347c0",
   "metadata": {},
   "source": [
    "创建包含0的数组"
   ]
  },
  {
   "cell_type": "code",
   "execution_count": 2,
   "id": "51b8fb6f-464f-454e-ab3a-e91ddb2cbdb4",
   "metadata": {},
   "outputs": [
    {
     "data": {
      "text/plain": [
       "array([0., 0., 0., 0., 0.])"
      ]
     },
     "execution_count": 2,
     "metadata": {},
     "output_type": "execute_result"
    }
   ],
   "source": [
    "np.zeros(5)"
   ]
  },
  {
   "cell_type": "markdown",
   "id": "1b56dbae-7619-4615-8d4c-00395456a885",
   "metadata": {},
   "source": [
    "创建2D的数组"
   ]
  },
  {
   "cell_type": "code",
   "execution_count": 3,
   "id": "2b2c0d13-bda6-4bd2-9d9d-92c3d347e2e2",
   "metadata": {},
   "outputs": [],
   "source": [
    "a = np.zeros((3,4))"
   ]
  },
  {
   "cell_type": "code",
   "execution_count": 4,
   "id": "269851f8-ad26-4864-9c16-b8094df8299d",
   "metadata": {},
   "outputs": [
    {
     "data": {
      "text/plain": [
       "(3, 4)"
      ]
     },
     "execution_count": 4,
     "metadata": {},
     "output_type": "execute_result"
    }
   ],
   "source": [
    "a.shape"
   ]
  },
  {
   "cell_type": "code",
   "execution_count": 5,
   "id": "e374c221-ba43-4d2b-a7ff-f771e74570ed",
   "metadata": {},
   "outputs": [
    {
     "data": {
      "text/plain": [
       "2"
      ]
     },
     "execution_count": 5,
     "metadata": {},
     "output_type": "execute_result"
    }
   ],
   "source": [
    "a.ndim"
   ]
  },
  {
   "cell_type": "code",
   "execution_count": 6,
   "id": "ec246dc5-d143-4a57-abe9-c2ce06584e4b",
   "metadata": {},
   "outputs": [
    {
     "data": {
      "text/plain": [
       "12"
      ]
     },
     "execution_count": 6,
     "metadata": {},
     "output_type": "execute_result"
    }
   ],
   "source": [
    "a.size"
   ]
  },
  {
   "cell_type": "markdown",
   "id": "7fb89fd9-90ac-44b5-aadf-24da6ddd26f1",
   "metadata": {},
   "source": [
    "## N维数组"
   ]
  },
  {
   "cell_type": "code",
   "execution_count": 7,
   "id": "1e7a1fc8-6acd-405a-a3f1-e51682d14ccf",
   "metadata": {},
   "outputs": [
    {
     "data": {
      "text/plain": [
       "array([[[0., 0., 0., 0.],\n",
       "        [0., 0., 0., 0.],\n",
       "        [0., 0., 0., 0.]],\n",
       "\n",
       "       [[0., 0., 0., 0.],\n",
       "        [0., 0., 0., 0.],\n",
       "        [0., 0., 0., 0.]]])"
      ]
     },
     "execution_count": 7,
     "metadata": {},
     "output_type": "execute_result"
    }
   ],
   "source": [
    "np.zeros((2,3,4))"
   ]
  },
  {
   "cell_type": "markdown",
   "id": "08e53b90-9f39-4179-9656-02a5b8950197",
   "metadata": {},
   "source": [
    "## 数组类型"
   ]
  },
  {
   "cell_type": "markdown",
   "id": "0d838d1f-743b-4b84-ac47-ba4bdfa5889e",
   "metadata": {},
   "source": [
    "numpy创建的数组类型是 *ndarray*"
   ]
  },
  {
   "cell_type": "code",
   "execution_count": 8,
   "id": "786155d1-01c8-4232-a960-64e7cb2b8912",
   "metadata": {},
   "outputs": [
    {
     "data": {
      "text/plain": [
       "numpy.ndarray"
      ]
     },
     "execution_count": 8,
     "metadata": {},
     "output_type": "execute_result"
    }
   ],
   "source": [
    "type(np.zeros((3,4)))"
   ]
  },
  {
   "cell_type": "markdown",
   "id": "596d1c35-2589-47dd-b9ff-b2ebe336e884",
   "metadata": {},
   "source": [
    "## np.ones\n",
    "创建全是1的数组"
   ]
  },
  {
   "cell_type": "code",
   "execution_count": 9,
   "id": "ff0fd3bc-9723-41a8-a195-80de2cc9f228",
   "metadata": {},
   "outputs": [
    {
     "data": {
      "text/plain": [
       "array([[1., 1., 1., 1.],\n",
       "       [1., 1., 1., 1.],\n",
       "       [1., 1., 1., 1.]])"
      ]
     },
     "execution_count": 9,
     "metadata": {},
     "output_type": "execute_result"
    }
   ],
   "source": [
    "np.ones((3,4))"
   ]
  },
  {
   "cell_type": "markdown",
   "id": "a2cba915-eb41-467e-95ed-8e11c5640c88",
   "metadata": {},
   "source": [
    "## np.full\n",
    "创建指定初始值的数组"
   ]
  },
  {
   "cell_type": "code",
   "execution_count": 10,
   "id": "7a45298e-601c-4fdf-8903-cf394bef011c",
   "metadata": {},
   "outputs": [
    {
     "data": {
      "text/plain": [
       "array([[3.14159265, 3.14159265, 3.14159265, 3.14159265],\n",
       "       [3.14159265, 3.14159265, 3.14159265, 3.14159265],\n",
       "       [3.14159265, 3.14159265, 3.14159265, 3.14159265]])"
      ]
     },
     "execution_count": 10,
     "metadata": {},
     "output_type": "execute_result"
    }
   ],
   "source": [
    "np.full((3,4), np.pi)"
   ]
  },
  {
   "cell_type": "markdown",
   "id": "9c158fb6-ac2b-4a0a-8fe2-a5b8ebb22fcd",
   "metadata": {},
   "source": [
    "## np.empty\n",
    "内容是随机的，取决于在内存中的值"
   ]
  },
  {
   "cell_type": "code",
   "execution_count": 11,
   "id": "294f943b-d8ab-40b1-9137-3943472d2d0e",
   "metadata": {},
   "outputs": [
    {
     "data": {
      "text/plain": [
       "array([[0., 0., 0.],\n",
       "       [0., 0., 0.]])"
      ]
     },
     "execution_count": 11,
     "metadata": {},
     "output_type": "execute_result"
    }
   ],
   "source": [
    "np.empty((2,3))"
   ]
  },
  {
   "cell_type": "markdown",
   "id": "aa1c1617-7b8e-45f5-b53a-8d028a7e5d90",
   "metadata": {},
   "source": [
    "## np.array\n",
    "可以直接冲python数组中创建numpy数组"
   ]
  },
  {
   "cell_type": "code",
   "execution_count": 12,
   "id": "a4d62651-10da-4caa-80c4-fa9b30800e01",
   "metadata": {},
   "outputs": [
    {
     "data": {
      "text/plain": [
       "array([[ 1,  2,  3,  4],\n",
       "       [10, 20, 30, 40]])"
      ]
     },
     "execution_count": 12,
     "metadata": {},
     "output_type": "execute_result"
    }
   ],
   "source": [
    "np.array([[1,2,3,4], [10, 20, 30, 40]])"
   ]
  },
  {
   "cell_type": "markdown",
   "id": "0a4db61d-e438-4f91-9477-edc23fc74ab5",
   "metadata": {},
   "source": [
    "## np.arange"
   ]
  },
  {
   "cell_type": "markdown",
   "id": "c85ecbe3-b4cb-4850-aa51-03646383f090",
   "metadata": {},
   "source": [
    "和python内置的range函数类似"
   ]
  },
  {
   "cell_type": "code",
   "execution_count": 13,
   "id": "2a34a730-7b6a-4707-b27e-640d2f7ce085",
   "metadata": {},
   "outputs": [
    {
     "data": {
      "text/plain": [
       "array([1, 2, 3, 4])"
      ]
     },
     "execution_count": 13,
     "metadata": {},
     "output_type": "execute_result"
    }
   ],
   "source": [
    "np.arange(1,5)"
   ]
  },
  {
   "cell_type": "code",
   "execution_count": 14,
   "id": "995ab442-78c7-497d-af22-954377487383",
   "metadata": {},
   "outputs": [
    {
     "data": {
      "text/plain": [
       "array([1., 2., 3., 4.])"
      ]
     },
     "execution_count": 14,
     "metadata": {},
     "output_type": "execute_result"
    }
   ],
   "source": [
    "np.arange(1.0,5.0)"
   ]
  },
  {
   "cell_type": "markdown",
   "id": "92d0f973-1e73-45aa-95a4-9ccd5f4b4f06",
   "metadata": {},
   "source": [
    "还可以指定step参数"
   ]
  },
  {
   "cell_type": "code",
   "execution_count": 15,
   "id": "16bc4887-584f-4fe9-97e4-179d5bdfeabe",
   "metadata": {},
   "outputs": [
    {
     "data": {
      "text/plain": [
       "array([1. , 1.5, 2. , 2.5, 3. , 3.5, 4. , 4.5])"
      ]
     },
     "execution_count": 15,
     "metadata": {},
     "output_type": "execute_result"
    }
   ],
   "source": [
    "np.arange(1,5,0.5)"
   ]
  },
  {
   "cell_type": "markdown",
   "id": "a7e17041-d6ab-4ac1-8dc3-13b16b62fd92",
   "metadata": {},
   "source": [
    "但是，在处理float类型的数据时，结果可能是不确定的，比如下面这个例子："
   ]
  },
  {
   "cell_type": "code",
   "execution_count": 16,
   "id": "71afc151-1812-4471-a636-8d6c3c9d6c91",
   "metadata": {},
   "outputs": [
    {
     "name": "stdout",
     "output_type": "stream",
     "text": [
      "[0.         0.33333333 0.66666667 1.         1.33333333 1.66666667]\n",
      "[0.         0.33333333 0.66666667 1.         1.33333333 1.66666667]\n",
      "[0.         0.33333333 0.66666667 1.         1.33333334]\n"
     ]
    }
   ],
   "source": [
    "print(np.arange(0, 5/3, 1/3)) # depending on floating point errors, the max value is 4/3 or 5/3.\n",
    "print(np.arange(0, 5/3, 0.333333333))\n",
    "print(np.arange(0, 5/3, 0.333333334))"
   ]
  },
  {
   "cell_type": "markdown",
   "id": "37166aea-2de6-4bc8-9104-34eb588b0fe1",
   "metadata": {},
   "source": [
    "## np.linspace"
   ]
  },
  {
   "cell_type": "markdown",
   "id": "2cf2b26f-4560-4033-9daf-9c8ec9efd67c",
   "metadata": {},
   "source": [
    "因为arange存在上面这个问题，通常推荐使用`linspace`,这个函数返回一个指定个数的数组，数组中的值均匀分布在min,max之间，并且包含max值，这点于arange不一样"
   ]
  },
  {
   "cell_type": "code",
   "execution_count": 17,
   "id": "d9488df3-f199-41cb-8d5d-9399bfb44b30",
   "metadata": {},
   "outputs": [
    {
     "data": {
      "text/plain": [
       "array([0.        , 0.33333333, 0.66666667, 1.        , 1.33333333,\n",
       "       1.66666667])"
      ]
     },
     "execution_count": 17,
     "metadata": {},
     "output_type": "execute_result"
    }
   ],
   "source": [
    "np.linspace(0,5/3,6)"
   ]
  },
  {
   "cell_type": "markdown",
   "id": "89fb5ac8-48b9-43d8-91f6-fa3d1e0dd49f",
   "metadata": {},
   "source": [
    "## np.rand和np.randn"
   ]
  },
  {
   "cell_type": "markdown",
   "id": "51f6fc68-a11a-42b1-a168-36161bde92d4",
   "metadata": {},
   "source": [
    "创建一个3x4，值在0-1之间随机的数组(均匀分布)"
   ]
  },
  {
   "cell_type": "code",
   "execution_count": 18,
   "id": "97d1cf28-1fdf-44b8-a050-73455d031aaf",
   "metadata": {},
   "outputs": [
    {
     "data": {
      "text/plain": [
       "array([[0.89186858, 0.81324596, 0.22911736, 0.30293326],\n",
       "       [0.89671354, 0.18957495, 0.67593573, 0.42688871],\n",
       "       [0.92352589, 0.61978843, 0.60551857, 0.86831125]])"
      ]
     },
     "execution_count": 18,
     "metadata": {},
     "output_type": "execute_result"
    }
   ],
   "source": [
    "np.random.rand(3,4)"
   ]
  },
  {
   "cell_type": "markdown",
   "id": "5c15f278-256d-4a77-a162-1a4d49891455",
   "metadata": {},
   "source": [
    "创建一个3x4，值随机的数组(正态分布(normal distribution | Gaussian distribution))，均值(mean)为0，方差为1"
   ]
  },
  {
   "cell_type": "code",
   "execution_count": 19,
   "id": "0c76db30-e06b-4d17-a2b0-88b208b2ba7c",
   "metadata": {},
   "outputs": [
    {
     "data": {
      "text/plain": [
       "array([[-0.95733445, -1.49481261,  0.86543503,  0.33684155],\n",
       "       [ 1.42579232, -0.36543546,  1.07788996, -0.05392863],\n",
       "       [-0.15447144, -0.44613954,  1.29222074,  0.80864624]])"
      ]
     },
     "execution_count": 19,
     "metadata": {},
     "output_type": "execute_result"
    }
   ],
   "source": [
    "np.random.randn(3,4)"
   ]
  },
  {
   "cell_type": "markdown",
   "id": "d0cf737e-7c85-4a87-8057-f8aa1e36b376",
   "metadata": {},
   "source": [
    "画图看下数据"
   ]
  },
  {
   "cell_type": "code",
   "execution_count": 22,
   "id": "9724d542-b667-41a0-8db4-0f4442251edf",
   "metadata": {},
   "outputs": [
    {
     "data": {
      "image/png": "[encoded data removed]",
      "text/plain": [
       "<Figure size 640x480 with 1 Axes>"
      ]
     },
     "metadata": {},
     "output_type": "display_data"
    }
   ],
   "source": [
    "import matplotlib.pyplot as plt\n",
    "\n",
    "plt.hist(np.random.rand(100000), density=True, bins=100, histtype=\"step\", color=\"blue\", label=\"rand\")\n",
    "plt.hist(np.random.randn(100000), density=True, bins=100, histtype=\"step\", color=\"red\", label=\"randn\")\n",
    "plt.axis([-2.5, 2.5, 0, 1.1])\n",
    "plt.legend(loc = \"upper left\")\n",
    "plt.title(\"Random distributions\")\n",
    "plt.xlabel(\"Value\")\n",
    "plt.ylabel(\"Density\")\n",
    "plt.show()"
   ]
  },
  {
   "cell_type": "markdown",
   "id": "2cd3c28b-0c3d-4d0b-b8ef-32c09d91ec2b",
   "metadata": {},
   "source": [
    "## np.fromfunction"
   ]
  },
  {
   "cell_type": "code",
   "execution_count": 26,
   "id": "1cc25863-4a92-4e9c-b532-0aed8544cab2",
   "metadata": {},
   "outputs": [
    {
     "data": {
      "text/plain": [
       "array([[[  0.,   1.,   2.,   3.,   4.,   5.,   6.,   7.,   8.,   9.],\n",
       "        [ 10.,  11.,  12.,  13.,  14.,  15.,  16.,  17.,  18.,  19.]],\n",
       "\n",
       "       [[100., 101., 102., 103., 104., 105., 106., 107., 108., 109.],\n",
       "        [110., 111., 112., 113., 114., 115., 116., 117., 118., 119.]],\n",
       "\n",
       "       [[200., 201., 202., 203., 204., 205., 206., 207., 208., 209.],\n",
       "        [210., 211., 212., 213., 214., 215., 216., 217., 218., 219.]]])"
      ]
     },
     "execution_count": 26,
     "metadata": {},
     "output_type": "execute_result"
    }
   ],
   "source": [
    "def my_function(z, y, x):\n",
    "    return x + 10 * y + 100 * z\n",
    "\n",
    "np.fromfunction(my_function, (3, 2, 10))"
   ]
  },
  {
   "cell_type": "markdown",
   "id": "d1540e77-a232-4bcc-a08a-561324f895a5",
   "metadata": {},
   "source": [
    "# Array data"
   ]
  },
  {
   "cell_type": "code",
   "execution_count": 31,
   "id": "78148432-6bc9-4bc4-b0fc-d6b18c9830e4",
   "metadata": {},
   "outputs": [
    {
     "name": "stdout",
     "output_type": "stream",
     "text": [
      "int64 [1 2 3 4]\n"
     ]
    }
   ],
   "source": [
    "d = np.arange(1, 5, dtype=np.int64)\n",
    "print(d.dtype, d)"
   ]
  },
  {
   "cell_type": "markdown",
   "id": "1a16db6f-a44e-41cf-90f1-f5c3d2e051b0",
   "metadata": {},
   "source": [
    "Available data types include signed int8, int16, int32, int64, unsigned uint8|16|32|64, float16|32|64 and complex64|128"
   ]
  },
  {
   "cell_type": "markdown",
   "id": "fb70758b-2680-448c-a0ca-fb8a04b6a030",
   "metadata": {},
   "source": [
    "# Reshaping an array"
   ]
  },
  {
   "cell_type": "markdown",
   "id": "4220d0f0-9616-4f33-876f-29e91872df93",
   "metadata": {},
   "source": [
    "## 就地替换"
   ]
  },
  {
   "cell_type": "code",
   "execution_count": 33,
   "id": "2985f543-8cdf-407c-b10f-4f6c52da2dbd",
   "metadata": {},
   "outputs": [
    {
     "name": "stdout",
     "output_type": "stream",
     "text": [
      "[ 0  1  2  3  4  5  6  7  8  9 10 11 12 13 14 15 16 17 18 19 20 21 22 23]\n",
      "Rank: 1\n"
     ]
    }
   ],
   "source": [
    "g = np.arange(24)\n",
    "print(g)\n",
    "print(\"Rank:\", g.ndim)"
   ]
  },
  {
   "cell_type": "markdown",
   "id": "2e9e6ed9-c10c-4583-8cfe-0a76c4dbb6db",
   "metadata": {},
   "source": [
    "替换直接修改`ndarray`的`shape`属性就行"
   ]
  },
  {
   "cell_type": "code",
   "execution_count": 39,
   "id": "28b5d202-e8c6-47d0-beb4-fba5a5ea7c2b",
   "metadata": {},
   "outputs": [
    {
     "name": "stdout",
     "output_type": "stream",
     "text": [
      "[[ 0  1  2  3]\n",
      " [ 4  5  6  7]\n",
      " [ 8  9 10 11]\n",
      " [12 13 14 15]\n",
      " [16 17 18 19]\n",
      " [20 21 22 23]]\n",
      "Rank: 2\n"
     ]
    }
   ],
   "source": [
    "g.shape=(6,4)\n",
    "print(g)\n",
    "print(\"Rank:\", g.ndim)"
   ]
  },
  {
   "cell_type": "code",
   "execution_count": 40,
   "id": "74c2793a-1a01-4bf4-b931-6acf4c3368e6",
   "metadata": {},
   "outputs": [
    {
     "name": "stdout",
     "output_type": "stream",
     "text": [
      "[[[ 0  1  2  3]\n",
      "  [ 4  5  6  7]\n",
      "  [ 8  9 10 11]]\n",
      "\n",
      " [[12 13 14 15]\n",
      "  [16 17 18 19]\n",
      "  [20 21 22 23]]]\n",
      "Rank: 3\n"
     ]
    }
   ],
   "source": [
    "g.shape=(2,3,4)\n",
    "print(g)\n",
    "print(\"Rank:\", g.ndim)"
   ]
  },
  {
   "cell_type": "markdown",
   "id": "90e697b8-30d0-4238-81ba-d902cc9d70fa",
   "metadata": {},
   "source": [
    "## reshape"
   ]
  },
  {
   "cell_type": "markdown",
   "id": "2b019db7-51c8-49b4-980d-30e66c019ecd",
   "metadata": {},
   "source": [
    "`reshape`会创建一个新的数组，但是底层数据仍然是同一份。"
   ]
  },
  {
   "cell_type": "code",
   "execution_count": 42,
   "id": "3dcfb88a-418d-4cc7-b9de-e4820b3e803f",
   "metadata": {},
   "outputs": [
    {
     "name": "stdout",
     "output_type": "stream",
     "text": [
      "[[ 0  1  2  3  4  5]\n",
      " [ 6  7  8  9 10 11]\n",
      " [12 13 14 15 16 17]\n",
      " [18 19 20 21 22 23]]\n",
      "Rank: 2\n"
     ]
    }
   ],
   "source": [
    "g2 = g.reshape(4,6)\n",
    "print(g2)\n",
    "print(\"Rank:\", g2.ndim)"
   ]
  },
  {
   "cell_type": "markdown",
   "id": "ca62ce86-f965-4e98-8e66-9e0be691bc06",
   "metadata": {},
   "source": [
    "修改一下数据"
   ]
  },
  {
   "cell_type": "code",
   "execution_count": 43,
   "id": "78ad4a94-f51e-44e3-9906-ea67a61989c9",
   "metadata": {},
   "outputs": [
    {
     "data": {
      "text/plain": [
       "array([[  0,   1,   2,   3,   4,   5],\n",
       "       [  6,   7, 999,   9,  10,  11],\n",
       "       [ 12,  13,  14,  15,  16,  17],\n",
       "       [ 18,  19,  20,  21,  22,  23]])"
      ]
     },
     "execution_count": 43,
     "metadata": {},
     "output_type": "execute_result"
    }
   ],
   "source": [
    "g2[1, 2] = 999\n",
    "g2"
   ]
  },
  {
   "cell_type": "markdown",
   "id": "fec9676d-057f-433c-89ed-2fe7e70dd1e7",
   "metadata": {},
   "source": [
    "g的数据也会改变"
   ]
  },
  {
   "cell_type": "code",
   "execution_count": 44,
   "id": "321a34bd-3330-4b5f-a3e1-af5081b6a57b",
   "metadata": {},
   "outputs": [
    {
     "data": {
      "text/plain": [
       "array([[[  0,   1,   2,   3],\n",
       "        [  4,   5,   6,   7],\n",
       "        [999,   9,  10,  11]],\n",
       "\n",
       "       [[ 12,  13,  14,  15],\n",
       "        [ 16,  17,  18,  19],\n",
       "        [ 20,  21,  22,  23]]])"
      ]
     },
     "execution_count": 44,
     "metadata": {},
     "output_type": "execute_result"
    }
   ],
   "source": [
    "g"
   ]
  },
  {
   "cell_type": "markdown",
   "id": "15540cca-d426-450f-9af6-c121a8c05062",
   "metadata": {},
   "source": [
    "## ravel"
   ]
  },
  {
   "cell_type": "markdown",
   "id": "2bb16f23-af2a-4d67-bbe7-b6293fd41c0d",
   "metadata": {},
   "source": [
    "返回一个新的一位数组，底层数据仍然相同"
   ]
  },
  {
   "cell_type": "code",
   "execution_count": 47,
   "id": "3f0e74a7-badd-4670-81a6-45d1b08df613",
   "metadata": {},
   "outputs": [
    {
     "data": {
      "text/plain": [
       "array([  0,   1,   2,   3,   4,   5,   6,   7, 999,   9,  10,  11,  12,\n",
       "        13,  14,  15,  16,  17,  18,  19,  20,  21,  22,  23])"
      ]
     },
     "execution_count": 47,
     "metadata": {},
     "output_type": "execute_result"
    }
   ],
   "source": [
    "g.ravel()"
   ]
  },
  {
   "cell_type": "markdown",
   "id": "9ea65f14-2d06-4690-92ac-610b6e5544e5",
   "metadata": {},
   "source": [
    "# 算术运算"
   ]
  },
  {
   "cell_type": "markdown",
   "id": "57a85012-ae8e-4536-a506-c5cdf5b03cac",
   "metadata": {},
   "source": [
    "支持常规的算术运算。"
   ]
  },
  {
   "cell_type": "code",
   "execution_count": 49,
   "id": "26cb1a5d-6e07-46bb-bf05-3e3f5ac13414",
   "metadata": {},
   "outputs": [
    {
     "name": "stdout",
     "output_type": "stream",
     "text": [
      "a + b  = [19 27 35 43]\n",
      "a - b  = [ 9 19 29 39]\n",
      "a * b  = [70 92 96 82]\n",
      "a / b  = [ 2.8         5.75       10.66666667 20.5       ]\n",
      "a // b  = [ 2  5 10 20]\n",
      "a % b  = [4 3 2 1]\n",
      "a ** b = [537824 279841  32768   1681]\n",
      "The history saving thread hit an unexpected error (OperationalError('attempt to write a readonly database')).History will not be written to the database.\n"
     ]
    }
   ],
   "source": [
    "a = np.array([14, 23, 32, 41])\n",
    "b = np.array([5,  4,  3,  2])\n",
    "print(\"a + b  =\", a + b)\n",
    "print(\"a - b  =\", a - b)\n",
    "print(\"a * b  =\", a * b)\n",
    "print(\"a / b  =\", a / b)\n",
    "print(\"a // b  =\", a // b)\n",
    "print(\"a % b  =\", a % b)\n",
    "print(\"a ** b =\", a ** b)"
   ]
  },
  {
   "cell_type": "markdown",
   "id": "8612f8d5-4f11-4415-9c22-156dc5718832",
   "metadata": {},
   "source": [
    "shape必须相同，不同的话就会是`broadcasting`"
   ]
  },
  {
   "cell_type": "markdown",
   "id": "e0f2f90f-5be6-474a-9a96-8fce0d2493d4",
   "metadata": {},
   "source": [
    "# Broadcasting"
   ]
  },
  {
   "cell_type": "markdown",
   "id": "1555b18d-6501-42e9-b1e4-7cabcc3d2e6b",
   "metadata": {},
   "source": [
    "## 第一规则\n",
    "\n",
    "秩不通的，扩展较小秩的数组"
   ]
  },
  {
   "cell_type": "code",
   "execution_count": 51,
   "id": "c7e192f8-8519-4d53-bf46-cec212e62a1f",
   "metadata": {},
   "outputs": [
    {
     "data": {
      "text/plain": [
       "array([[[0, 1, 2, 3, 4]]])"
      ]
     },
     "execution_count": 51,
     "metadata": {},
     "output_type": "execute_result"
    }
   ],
   "source": [
    "h = np.arange(5).reshape(1, 1, 5)\n",
    "h"
   ]
  },
  {
   "cell_type": "code",
   "execution_count": 52,
   "id": "9c0bf95d-5fce-4608-937c-b5e01bfe15fa",
   "metadata": {},
   "outputs": [
    {
     "data": {
      "text/plain": [
       "array([[[10, 21, 32, 43, 54]]])"
      ]
     },
     "execution_count": 52,
     "metadata": {},
     "output_type": "execute_result"
    }
   ],
   "source": [
    "h + [10, 20, 30, 40, 50]  # same as: h + [[[10, 20, 30, 40, 50]]]"
   ]
  },
  {
   "cell_type": "markdown",
   "id": "75e45a39-de33-4963-a386-07dd7e1252fc",
   "metadata": {},
   "source": [
    "(5,)的数组会被扩展成(1,1,5)"
   ]
  }
 ],
 "metadata": {
  "kernelspec": {
   "display_name": "Python 3 (ipykernel)",
   "language": "python",
   "name": "python3"
  },
  "language_info": {
   "codemirror_mode": {
    "name": "ipython",
    "version": 3
   },
   "file_extension": ".py",
   "mimetype": "text/x-python",
   "name": "python",
   "nbconvert_exporter": "python",
   "pygments_lexer": "ipython3",
   "version": "3.12.6"
  }
 },
 "nbformat": 4,
 "nbformat_minor": 5
}
