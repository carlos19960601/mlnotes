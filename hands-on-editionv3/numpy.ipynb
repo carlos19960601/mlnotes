{
 "cells": [
  {
   "cell_type": "markdown",
   "id": "678bbc3f-9ed1-48d8-a3f4-6f5a76ff1248",
   "metadata": {},
   "source": [
    "# Create Array"
   ]
  },
  {
   "cell_type": "markdown",
   "id": "1eca92c5-c6e0-4307-839b-41f18bf325c0",
   "metadata": {},
   "source": [
    "导入numpy包"
   ]
  },
  {
   "cell_type": "code",
   "execution_count": 1,
   "id": "9581bbbf-701b-4eb2-85b6-382180b2c1c0",
   "metadata": {},
   "outputs": [],
   "source": [
    "import numpy as np"
   ]
  },
  {
   "cell_type": "markdown",
   "id": "7cbc89f1-36d2-4f73-9389-5d0ff1a194e8",
   "metadata": {},
   "source": [
    "# np.zeros"
   ]
  },
  {
   "cell_type": "markdown",
   "id": "cfe5033a-d565-462d-b2a9-b5b8297347c0",
   "metadata": {},
   "source": [
    "创建包含0的数组"
   ]
  },
  {
   "cell_type": "code",
   "execution_count": 2,
   "id": "51b8fb6f-464f-454e-ab3a-e91ddb2cbdb4",
   "metadata": {},
   "outputs": [
    {
     "data": {
      "text/plain": [
       "array([0., 0., 0., 0., 0.])"
      ]
     },
     "execution_count": 2,
     "metadata": {},
     "output_type": "execute_result"
    }
   ],
   "source": [
    "np.zeros(5)"
   ]
  },
  {
   "cell_type": "markdown",
   "id": "1b56dbae-7619-4615-8d4c-00395456a885",
   "metadata": {},
   "source": [
    "创建2D的数组(矩阵)"
   ]
  },
  {
   "cell_type": "code",
   "execution_count": 3,
   "id": "2b2c0d13-bda6-4bd2-9d9d-92c3d347e2e2",
   "metadata": {},
   "outputs": [],
   "source": [
    "a = np.zeros((3,4))"
   ]
  },
  {
   "cell_type": "code",
   "execution_count": 4,
   "id": "269851f8-ad26-4864-9c16-b8094df8299d",
   "metadata": {},
   "outputs": [
    {
     "data": {
      "text/plain": [
       "(3, 4)"
      ]
     },
     "execution_count": 4,
     "metadata": {},
     "output_type": "execute_result"
    }
   ],
   "source": [
    "a.shape"
   ]
  },
  {
   "cell_type": "code",
   "execution_count": 5,
   "id": "e374c221-ba43-4d2b-a7ff-f771e74570ed",
   "metadata": {},
   "outputs": [
    {
     "data": {
      "text/plain": [
       "2"
      ]
     },
     "execution_count": 5,
     "metadata": {},
     "output_type": "execute_result"
    }
   ],
   "source": [
    "a.ndim"
   ]
  },
  {
   "cell_type": "code",
   "execution_count": 6,
   "id": "ec246dc5-d143-4a57-abe9-c2ce06584e4b",
   "metadata": {},
   "outputs": [
    {
     "data": {
      "text/plain": [
       "12"
      ]
     },
     "execution_count": 6,
     "metadata": {},
     "output_type": "execute_result"
    }
   ],
   "source": [
    "a.size"
   ]
  },
  {
   "cell_type": "markdown",
   "id": "7fb89fd9-90ac-44b5-aadf-24da6ddd26f1",
   "metadata": {},
   "source": [
    "# N维数组"
   ]
  },
  {
   "cell_type": "code",
   "execution_count": 7,
   "id": "1e7a1fc8-6acd-405a-a3f1-e51682d14ccf",
   "metadata": {},
   "outputs": [
    {
     "data": {
      "text/plain": [
       "array([[[0., 0., 0., 0.],\n",
       "        [0., 0., 0., 0.],\n",
       "        [0., 0., 0., 0.]],\n",
       "\n",
       "       [[0., 0., 0., 0.],\n",
       "        [0., 0., 0., 0.],\n",
       "        [0., 0., 0., 0.]]])"
      ]
     },
     "execution_count": 7,
     "metadata": {},
     "output_type": "execute_result"
    }
   ],
   "source": [
    "np.zeros((2,3,4))"
   ]
  },
  {
   "cell_type": "markdown",
   "id": "08e53b90-9f39-4179-9656-02a5b8950197",
   "metadata": {},
   "source": [
    "# 数组类型"
   ]
  },
  {
   "cell_type": "markdown",
   "id": "0d838d1f-743b-4b84-ac47-ba4bdfa5889e",
   "metadata": {},
   "source": [
    "numpy创建的数组类型是 *ndarray*"
   ]
  },
  {
   "cell_type": "code",
   "execution_count": 8,
   "id": "786155d1-01c8-4232-a960-64e7cb2b8912",
   "metadata": {},
   "outputs": [
    {
     "data": {
      "text/plain": [
       "numpy.ndarray"
      ]
     },
     "execution_count": 8,
     "metadata": {},
     "output_type": "execute_result"
    }
   ],
   "source": [
    "type(np.zeros((3,4)))"
   ]
  },
  {
   "cell_type": "markdown",
   "id": "596d1c35-2589-47dd-b9ff-b2ebe336e884",
   "metadata": {},
   "source": [
    "# np.ones\n",
    "创建全是1的数组"
   ]
  },
  {
   "cell_type": "code",
   "execution_count": 9,
   "id": "ff0fd3bc-9723-41a8-a195-80de2cc9f228",
   "metadata": {},
   "outputs": [
    {
     "data": {
      "text/plain": [
       "array([[1., 1., 1., 1.],\n",
       "       [1., 1., 1., 1.],\n",
       "       [1., 1., 1., 1.]])"
      ]
     },
     "execution_count": 9,
     "metadata": {},
     "output_type": "execute_result"
    }
   ],
   "source": [
    "np.ones((3,4))"
   ]
  },
  {
   "cell_type": "markdown",
   "id": "a2cba915-eb41-467e-95ed-8e11c5640c88",
   "metadata": {},
   "source": [
    "# np.full\n",
    "创建指定初始值的数组"
   ]
  },
  {
   "cell_type": "code",
   "execution_count": 10,
   "id": "7a45298e-601c-4fdf-8903-cf394bef011c",
   "metadata": {},
   "outputs": [
    {
     "data": {
      "text/plain": [
       "array([[3.14159265, 3.14159265, 3.14159265, 3.14159265],\n",
       "       [3.14159265, 3.14159265, 3.14159265, 3.14159265],\n",
       "       [3.14159265, 3.14159265, 3.14159265, 3.14159265]])"
      ]
     },
     "execution_count": 10,
     "metadata": {},
     "output_type": "execute_result"
    }
   ],
   "source": [
    "np.full((3,4), np.pi)"
   ]
  },
  {
   "cell_type": "markdown",
   "id": "9c158fb6-ac2b-4a0a-8fe2-a5b8ebb22fcd",
   "metadata": {},
   "source": [
    "# np.empty\n",
    "内容是随机的，取决于在内存中的值"
   ]
  },
  {
   "cell_type": "code",
   "execution_count": 11,
   "id": "294f943b-d8ab-40b1-9137-3943472d2d0e",
   "metadata": {},
   "outputs": [
    {
     "data": {
      "text/plain": [
       "array([[0., 0., 0.],\n",
       "       [0., 0., 0.]])"
      ]
     },
     "execution_count": 11,
     "metadata": {},
     "output_type": "execute_result"
    }
   ],
   "source": [
    "np.empty((2,3))"
   ]
  },
  {
   "cell_type": "markdown",
   "id": "aa1c1617-7b8e-45f5-b53a-8d028a7e5d90",
   "metadata": {},
   "source": [
    "# np.array\n",
    "可以直接冲python数组中创建numpy数组"
   ]
  },
  {
   "cell_type": "code",
   "execution_count": 12,
   "id": "a4d62651-10da-4caa-80c4-fa9b30800e01",
   "metadata": {},
   "outputs": [
    {
     "data": {
      "text/plain": [
       "array([[ 1,  2,  3,  4],\n",
       "       [10, 20, 30, 40]])"
      ]
     },
     "execution_count": 12,
     "metadata": {},
     "output_type": "execute_result"
    }
   ],
   "source": [
    "np.array([[1,2,3,4], [10, 20, 30, 40]])"
   ]
  },
  {
   "cell_type": "markdown",
   "id": "0a4db61d-e438-4f91-9477-edc23fc74ab5",
   "metadata": {},
   "source": [
    "# np.arange\n",
    "和python内置的range函数类似"
   ]
  },
  {
   "cell_type": "code",
   "execution_count": 13,
   "id": "2a34a730-7b6a-4707-b27e-640d2f7ce085",
   "metadata": {},
   "outputs": [
    {
     "data": {
      "text/plain": [
       "array([1, 2, 3, 4])"
      ]
     },
     "execution_count": 13,
     "metadata": {},
     "output_type": "execute_result"
    }
   ],
   "source": [
    "np.arange(1,5)"
   ]
  },
  {
   "cell_type": "code",
   "execution_count": 14,
   "id": "995ab442-78c7-497d-af22-954377487383",
   "metadata": {},
   "outputs": [
    {
     "data": {
      "text/plain": [
       "array([1., 2., 3., 4.])"
      ]
     },
     "execution_count": 14,
     "metadata": {},
     "output_type": "execute_result"
    }
   ],
   "source": [
    "np.arange(1.0,5.0)"
   ]
  },
  {
   "cell_type": "markdown",
   "id": "92d0f973-1e73-45aa-95a4-9ccd5f4b4f06",
   "metadata": {},
   "source": [
    "还可以指定step参数"
   ]
  },
  {
   "cell_type": "code",
   "execution_count": 15,
   "id": "16bc4887-584f-4fe9-97e4-179d5bdfeabe",
   "metadata": {},
   "outputs": [
    {
     "data": {
      "text/plain": [
       "array([1. , 1.5, 2. , 2.5, 3. , 3.5, 4. , 4.5])"
      ]
     },
     "execution_count": 15,
     "metadata": {},
     "output_type": "execute_result"
    }
   ],
   "source": [
    "np.arange(1,5,0.5)"
   ]
  },
  {
   "cell_type": "markdown",
   "id": "a7e17041-d6ab-4ac1-8dc3-13b16b62fd92",
   "metadata": {},
   "source": [
    "但是，在处理float类型的数据时，结果可能是不确定的，比如下面这个例子："
   ]
  },
  {
   "cell_type": "code",
   "execution_count": 16,
   "id": "71afc151-1812-4471-a636-8d6c3c9d6c91",
   "metadata": {},
   "outputs": [
    {
     "name": "stdout",
     "output_type": "stream",
     "text": [
      "[0.         0.33333333 0.66666667 1.         1.33333333 1.66666667]\n",
      "[0.         0.33333333 0.66666667 1.         1.33333333 1.66666667]\n",
      "[0.         0.33333333 0.66666667 1.         1.33333334]\n"
     ]
    }
   ],
   "source": [
    "print(np.arange(0, 5/3, 1/3)) # depending on floating point errors, the max value is 4/3 or 5/3.\n",
    "print(np.arange(0, 5/3, 0.333333333))\n",
    "print(np.arange(0, 5/3, 0.333333334))"
   ]
  },
  {
   "cell_type": "markdown",
   "id": "37166aea-2de6-4bc8-9104-34eb588b0fe1",
   "metadata": {},
   "source": [
    "# np.linspace\n",
    "因为arange存在上面这个问题，通常推荐使用`linspace`,这个函数返回一个指定个数的数组，数组中的值均匀分布在min,max之间，并且包含max值，这点于arange不一样"
   ]
  },
  {
   "cell_type": "markdown",
   "id": "0c254a60-4577-4ada-bb0e-fd0fbcae335b",
   "metadata": {},
   "source": [
    "np.linspace(0,5/3,6)"
   ]
  },
  {
   "cell_type": "markdown",
   "id": "89fb5ac8-48b9-43d8-91f6-fa3d1e0dd49f",
   "metadata": {},
   "source": [
    "# `np.rand`和`np.randn`\n",
    "创建一个3x4，值在0-1之间随机的数组(均匀分布)"
   ]
  },
  {
   "cell_type": "code",
   "execution_count": 18,
   "id": "97d1cf28-1fdf-44b8-a050-73455d031aaf",
   "metadata": {},
   "outputs": [
    {
     "data": {
      "text/plain": [
       "array([[0.25235371, 0.65558507, 0.81463941, 0.73940318],\n",
       "       [0.00329612, 0.44535556, 0.29540258, 0.4137338 ],\n",
       "       [0.90991694, 0.54229294, 0.0128673 , 0.49536927]])"
      ]
     },
     "execution_count": 18,
     "metadata": {},
     "output_type": "execute_result"
    }
   ],
   "source": [
    "np.random.rand(3,4)"
   ]
  },
  {
   "cell_type": "markdown",
   "id": "5c15f278-256d-4a77-a162-1a4d49891455",
   "metadata": {},
   "source": [
    "创建一个3x4，值随机的数组(正态分布)"
   ]
  },
  {
   "cell_type": "code",
   "execution_count": 21,
   "id": "0c76db30-e06b-4d17-a2b0-88b208b2ba7c",
   "metadata": {},
   "outputs": [
    {
     "data": {
      "text/plain": [
       "array([[-1.15781581, -0.63067968, -0.76137798,  1.37165977],\n",
       "       [-2.28809124,  1.94038812, -0.29925918,  0.91543202],\n",
       "       [ 0.00555955, -0.00675997, -2.01936032,  0.39368599]])"
      ]
     },
     "execution_count": 21,
     "metadata": {},
     "output_type": "execute_result"
    }
   ],
   "source": [
    "np.random.randn(3,4)"
   ]
  },
  {
   "cell_type": "markdown",
   "id": "d0cf737e-7c85-4a87-8057-f8aa1e36b376",
   "metadata": {},
   "source": [
    "画图看下数据"
   ]
  },
  {
   "cell_type": "code",
   "execution_count": 26,
   "id": "9724d542-b667-41a0-8db4-0f4442251edf",
   "metadata": {},
   "outputs": [
    {
     "data": {
      "image/png": "[encoded data removed]",
      "text/plain": [
       "<Figure size 640x480 with 1 Axes>"
      ]
     },
     "metadata": {},
     "output_type": "display_data"
    }
   ],
   "source": [
    "import matplotlib.pyplot as plt\n",
    "\n",
    "plt.hist(np.random.rand(100000), density=True, bins=100, histtype=\"step\", color=\"blue\", label=\"rand\")\n",
    "plt.hist(np.random.randn(100000), density=True, bins=100, histtype=\"step\", color=\"red\", label=\"randn\")\n",
    "plt.axis([-2.5, 2.5, 0, 1.1])\n",
    "plt.legend(loc = \"upper left\")\n",
    "plt.title(\"Random distributions\")\n",
    "plt.xlabel(\"Value\")\n",
    "plt.ylabel(\"Density\")\n",
    "plt.show()"
   ]
  }
 ],
 "metadata": {
  "kernelspec": {
   "display_name": "Python 3 (ipykernel)",
   "language": "python",
   "name": "python3"
  },
  "language_info": {
   "codemirror_mode": {
    "name": "ipython",
    "version": 3
   },
   "file_extension": ".py",
   "mimetype": "text/x-python",
   "name": "python",
   "nbconvert_exporter": "python",
   "pygments_lexer": "ipython3",
   "version": "3.12.2"
  }
 },
 "nbformat": 4,
 "nbformat_minor": 5
}
