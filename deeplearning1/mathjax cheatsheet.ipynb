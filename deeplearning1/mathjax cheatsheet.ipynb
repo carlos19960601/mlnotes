{
 "cells": [
  {
   "cell_type": "markdown",
   "metadata": {},
   "source": [
    "**\\$\\$ 包裹公式**\n",
    "\n",
    "$$ h(x) = x^2 $$ "
   ]
  },
  {
   "cell_type": "markdown",
   "metadata": {},
   "source": [
    "**分数**\n",
    "\n",
    "$$ \\frac{n}{n+1} $$"
   ]
  },
  {
   "cell_type": "markdown",
   "metadata": {},
   "source": [
    "**求和**\n",
    "\n",
    "$$ \\sum_{i=1}^n n = \\frac{(1+n)n}{2}$$"
   ]
  },
  {
   "cell_type": "markdown",
   "metadata": {},
   "source": [
    "条件方程\n",
    "\n",
    "$$ f(n) = \n",
    "\\begin{cases} \n",
    "  n/2,   & \\text{if $n$ is even} \\\\\n",
    "  3n+1, & \\text{if $n$ is odd}\n",
    "\\end{cases} \n",
    "$$"
   ]
  },
  {
   "cell_type": "markdown",
   "metadata": {},
   "source": [
    "**Matrix**\n",
    "\n",
    "$$ \\begin{pmatrix} a & b \\\\ c & d \\end{pmatrix} $$"
   ]
  },
  {
   "cell_type": "markdown",
   "metadata": {},
   "source": []
  }
 ],
 "metadata": {
  "language_info": {
   "name": "python"
  }
 },
 "nbformat": 4,
 "nbformat_minor": 2
}
